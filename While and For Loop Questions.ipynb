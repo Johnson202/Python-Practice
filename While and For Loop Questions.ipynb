{
 "cells": [
  {
   "cell_type": "markdown",
   "id": "135753dc",
   "metadata": {},
   "source": [
    "## While Loop Questions"
   ]
  },
  {
   "cell_type": "markdown",
   "id": "74c0853d",
   "metadata": {},
   "source": [
    "1. Write a Python program to print all the even numbers between 1 and 100 using a \n",
    "while loop."
   ]
  },
  {
   "cell_type": "code",
   "execution_count": 1,
   "id": "4f0e43fe",
   "metadata": {},
   "outputs": [],
   "source": [
    "def print_even_numbers():\n",
    "    i = 1\n",
    "    while i <= 100:\n",
    "        if i % 2 == 0:\n",
    "            print(i)\n",
    "        i += 1"
   ]
  },
  {
   "cell_type": "code",
   "execution_count": 2,
   "id": "cf0f1906",
   "metadata": {},
   "outputs": [
    {
     "name": "stdout",
     "output_type": "stream",
     "text": [
      "2\n",
      "4\n",
      "6\n",
      "8\n",
      "10\n",
      "12\n",
      "14\n",
      "16\n",
      "18\n",
      "20\n",
      "22\n",
      "24\n",
      "26\n",
      "28\n",
      "30\n",
      "32\n",
      "34\n",
      "36\n",
      "38\n",
      "40\n",
      "42\n",
      "44\n",
      "46\n",
      "48\n",
      "50\n",
      "52\n",
      "54\n",
      "56\n",
      "58\n",
      "60\n",
      "62\n",
      "64\n",
      "66\n",
      "68\n",
      "70\n",
      "72\n",
      "74\n",
      "76\n",
      "78\n",
      "80\n",
      "82\n",
      "84\n",
      "86\n",
      "88\n",
      "90\n",
      "92\n",
      "94\n",
      "96\n",
      "98\n",
      "100\n"
     ]
    }
   ],
   "source": [
    "print_even_numbers()"
   ]
  },
  {
   "cell_type": "markdown",
   "id": "275c7f19",
   "metadata": {},
   "source": [
    "2. Write a Python program to find the sum of all the numbers between 1 and 100 using a \n",
    "while loop."
   ]
  },
  {
   "cell_type": "code",
   "execution_count": 3,
   "id": "6fce7a91",
   "metadata": {},
   "outputs": [],
   "source": [
    "def add_up_numbers():\n",
    "    sum_ = 0\n",
    "    i = 1\n",
    "    while i <= 100:\n",
    "        sum_ += i\n",
    "        i += 1\n",
    "    return sum_"
   ]
  },
  {
   "cell_type": "code",
   "execution_count": 4,
   "id": "a05fee38",
   "metadata": {},
   "outputs": [
    {
     "data": {
      "text/plain": [
       "5050"
      ]
     },
     "execution_count": 4,
     "metadata": {},
     "output_type": "execute_result"
    }
   ],
   "source": [
    "add_up_numbers()"
   ]
  },
  {
   "cell_type": "markdown",
   "id": "1412b150",
   "metadata": {},
   "source": [
    "3. Write a Python program to find the factorial of a given number using a while loop."
   ]
  },
  {
   "cell_type": "code",
   "execution_count": 5,
   "id": "775e7b8c",
   "metadata": {},
   "outputs": [],
   "source": [
    "def find_factorial(n):\n",
    "    if n != int(n):\n",
    "        print(\"Cannot find factorial of a (non-integer) decimal number!\")\n",
    "    elif n < 0:\n",
    "        print(\"Factorial of a negative number is undefined!\")\n",
    "    elif n == 0:\n",
    "        return 1\n",
    "    else:\n",
    "        factorial = 1\n",
    "        i = 1\n",
    "        while i <= n:\n",
    "            factorial *= i\n",
    "            i += 1\n",
    "        return factorial"
   ]
  },
  {
   "cell_type": "code",
   "execution_count": 6,
   "id": "b9c538f7",
   "metadata": {},
   "outputs": [
    {
     "name": "stdout",
     "output_type": "stream",
     "text": [
      "Cannot find factorial of a (non-integer) decimal number!\n"
     ]
    }
   ],
   "source": [
    "find_factorial(1.1)"
   ]
  },
  {
   "cell_type": "code",
   "execution_count": 7,
   "id": "c4d51901",
   "metadata": {},
   "outputs": [
    {
     "name": "stdout",
     "output_type": "stream",
     "text": [
      "Factorial of a negative number is undefined!\n"
     ]
    }
   ],
   "source": [
    "find_factorial(-2)"
   ]
  },
  {
   "cell_type": "code",
   "execution_count": 8,
   "id": "3f00ba78",
   "metadata": {},
   "outputs": [
    {
     "data": {
      "text/plain": [
       "3628800"
      ]
     },
     "execution_count": 8,
     "metadata": {},
     "output_type": "execute_result"
    }
   ],
   "source": [
    "find_factorial(10)"
   ]
  },
  {
   "cell_type": "markdown",
   "id": "3b54a4f1",
   "metadata": {},
   "source": [
    "4. Write a Python program to reverse a given number using a while loop."
   ]
  },
  {
   "cell_type": "code",
   "execution_count": 9,
   "id": "969494a2",
   "metadata": {},
   "outputs": [],
   "source": [
    "def reverse_number(n):\n",
    "    reversed_number = ''\n",
    "    str_n = str(n)\n",
    "    if type(n) == float or type(n) == int:\n",
    "        idx = len(str(n)) - 1\n",
    "        while idx >= 0:\n",
    "            reversed_number += str_n[idx]\n",
    "            idx -= 1\n",
    "        if type(n) == float:\n",
    "            return float(reversed_number)\n",
    "        else:\n",
    "            return int(reversed_number)\n",
    "    else:\n",
    "        print(\"Cannot reverse a given number if it is not a number!\")"
   ]
  },
  {
   "cell_type": "code",
   "execution_count": 10,
   "id": "90259319",
   "metadata": {},
   "outputs": [
    {
     "data": {
      "text/plain": [
       "1.211"
      ]
     },
     "execution_count": 10,
     "metadata": {},
     "output_type": "execute_result"
    }
   ],
   "source": [
    "reverse_number(112.1)"
   ]
  },
  {
   "cell_type": "code",
   "execution_count": 11,
   "id": "98041354",
   "metadata": {},
   "outputs": [
    {
     "data": {
      "text/plain": [
       "211"
      ]
     },
     "execution_count": 11,
     "metadata": {},
     "output_type": "execute_result"
    }
   ],
   "source": [
    "reverse_number(112)"
   ]
  },
  {
   "cell_type": "code",
   "execution_count": 12,
   "id": "97fd6316",
   "metadata": {},
   "outputs": [
    {
     "name": "stdout",
     "output_type": "stream",
     "text": [
      "Cannot reverse a given number if it is not a number!\n"
     ]
    }
   ],
   "source": [
    "reverse_number('abx')"
   ]
  },
  {
   "cell_type": "markdown",
   "id": "b6f36604",
   "metadata": {},
   "source": [
    "5. Write a Python program to find the largest number in a given list using a while loop."
   ]
  },
  {
   "cell_type": "code",
   "execution_count": 13,
   "id": "a1c7bc57",
   "metadata": {},
   "outputs": [],
   "source": [
    "def largest_number(lst_num):\n",
    "    i = 0\n",
    "    largest_num = lst_num[i]\n",
    "    while i < len(lst_num):\n",
    "        num = lst_num[i]\n",
    "        if num > largest_num:\n",
    "            largest_num = num\n",
    "        i += 1\n",
    "    return largest_num"
   ]
  },
  {
   "cell_type": "code",
   "execution_count": 14,
   "id": "0a0141e1",
   "metadata": {},
   "outputs": [
    {
     "data": {
      "text/plain": [
       "999"
      ]
     },
     "execution_count": 14,
     "metadata": {},
     "output_type": "execute_result"
    }
   ],
   "source": [
    "largest_number([1, 2, 6, 9, -111, -1, 999])"
   ]
  },
  {
   "cell_type": "markdown",
   "id": "aca673ab",
   "metadata": {},
   "source": [
    "6. Write a Python program to find the sum of all the elements in a given list using a while \n",
    "loop."
   ]
  },
  {
   "cell_type": "code",
   "execution_count": 15,
   "id": "0158edaa",
   "metadata": {},
   "outputs": [],
   "source": [
    "def sum_all(lst_num):\n",
    "    i = 0\n",
    "    sum_ = 0\n",
    "    while i < len(lst_num):\n",
    "        num = lst_num[i]\n",
    "        sum_ += num\n",
    "        i += 1\n",
    "    return sum_"
   ]
  },
  {
   "cell_type": "code",
   "execution_count": 16,
   "id": "a646e4d2",
   "metadata": {},
   "outputs": [
    {
     "data": {
      "text/plain": [
       "8"
      ]
     },
     "execution_count": 16,
     "metadata": {},
     "output_type": "execute_result"
    }
   ],
   "source": [
    "sum_all([1, -1, 2, -2, 3, -3, 8, 9, 10, -10, -9])"
   ]
  },
  {
   "cell_type": "markdown",
   "id": "71435c04",
   "metadata": {},
   "source": [
    "7. Write a Python program to check if a given number is a palindrome using a while loop."
   ]
  },
  {
   "cell_type": "code",
   "execution_count": 17,
   "id": "3e8a5b99",
   "metadata": {},
   "outputs": [],
   "source": [
    "def is_palindrome(n):\n",
    "    if type(n) == float or type(n) == int:\n",
    "        reversed_n = reverse_number(n)\n",
    "        if reversed_n == n:\n",
    "            return True\n",
    "        return False\n",
    "    else:\n",
    "        print(\"Cannot determine if a non-number is a palindrome!\")"
   ]
  },
  {
   "cell_type": "code",
   "execution_count": 18,
   "id": "e2b936c2",
   "metadata": {},
   "outputs": [
    {
     "data": {
      "text/plain": [
       "True"
      ]
     },
     "execution_count": 18,
     "metadata": {},
     "output_type": "execute_result"
    }
   ],
   "source": [
    "is_palindrome(1221)"
   ]
  },
  {
   "cell_type": "code",
   "execution_count": 19,
   "id": "2f234136",
   "metadata": {},
   "outputs": [
    {
     "data": {
      "text/plain": [
       "True"
      ]
     },
     "execution_count": 19,
     "metadata": {},
     "output_type": "execute_result"
    }
   ],
   "source": [
    "is_palindrome(12.21)"
   ]
  },
  {
   "cell_type": "code",
   "execution_count": 20,
   "id": "7fa28ff0",
   "metadata": {},
   "outputs": [
    {
     "data": {
      "text/plain": [
       "False"
      ]
     },
     "execution_count": 20,
     "metadata": {},
     "output_type": "execute_result"
    }
   ],
   "source": [
    "is_palindrome(123)"
   ]
  },
  {
   "cell_type": "code",
   "execution_count": 21,
   "id": "893d9782",
   "metadata": {},
   "outputs": [
    {
     "name": "stdout",
     "output_type": "stream",
     "text": [
      "Cannot determine if a non-number is a palindrome!\n"
     ]
    }
   ],
   "source": [
    "is_palindrome(\"abccba\")"
   ]
  },
  {
   "cell_type": "markdown",
   "id": "34443674",
   "metadata": {},
   "source": [
    "8. Write a Python program to check if a given number is a prime number using a while \n",
    "loop."
   ]
  },
  {
   "cell_type": "code",
   "execution_count": 22,
   "id": "b53ff399",
   "metadata": {},
   "outputs": [],
   "source": [
    "def is_prime(n):\n",
    "    if type(n) == int:\n",
    "        if n <= 1:\n",
    "            return False\n",
    "        else:\n",
    "            i = 2\n",
    "            while i <= n//2:\n",
    "                if n % i == 0:\n",
    "                    return False\n",
    "                i += 1\n",
    "        return True\n",
    "    else:\n",
    "        print(\"Cannot determine if a non-integer is a prime number or not!\")"
   ]
  },
  {
   "cell_type": "code",
   "execution_count": 23,
   "id": "ca388c83",
   "metadata": {},
   "outputs": [
    {
     "data": {
      "text/plain": [
       "False"
      ]
     },
     "execution_count": 23,
     "metadata": {},
     "output_type": "execute_result"
    }
   ],
   "source": [
    "is_prime(8)"
   ]
  },
  {
   "cell_type": "code",
   "execution_count": 24,
   "id": "edf10eb5",
   "metadata": {},
   "outputs": [
    {
     "data": {
      "text/plain": [
       "True"
      ]
     },
     "execution_count": 24,
     "metadata": {},
     "output_type": "execute_result"
    }
   ],
   "source": [
    "is_prime(199)"
   ]
  },
  {
   "cell_type": "code",
   "execution_count": 25,
   "id": "6859351e",
   "metadata": {},
   "outputs": [
    {
     "name": "stdout",
     "output_type": "stream",
     "text": [
      "Cannot determine if a non-integer is a prime number or not!\n"
     ]
    }
   ],
   "source": [
    "is_prime(1.11)"
   ]
  },
  {
   "cell_type": "code",
   "execution_count": 26,
   "id": "9af20268",
   "metadata": {},
   "outputs": [
    {
     "data": {
      "text/plain": [
       "True"
      ]
     },
     "execution_count": 26,
     "metadata": {},
     "output_type": "execute_result"
    }
   ],
   "source": [
    "is_prime(11)"
   ]
  },
  {
   "cell_type": "markdown",
   "id": "f5201277",
   "metadata": {},
   "source": [
    "9. Write a Python program to print the Fibonacci series up to a given number using a \n",
    "while loop."
   ]
  },
  {
   "cell_type": "code",
   "execution_count": 27,
   "id": "7a612f04",
   "metadata": {},
   "outputs": [],
   "source": [
    "def print_fibonacci(n):\n",
    "    if n < 1:\n",
    "        print(\"No Fibonacci series for a number less than 1.\")\n",
    "    else:\n",
    "        first_num = 1\n",
    "        second_num = 1\n",
    "        print(first_num)\n",
    "        while second_num <= n:\n",
    "            print(second_num)\n",
    "            previous_second_num = second_num\n",
    "            second_num = first_num + previous_second_num\n",
    "            first_num = previous_second_num"
   ]
  },
  {
   "cell_type": "code",
   "execution_count": 28,
   "id": "6c3c701a",
   "metadata": {},
   "outputs": [
    {
     "name": "stdout",
     "output_type": "stream",
     "text": [
      "1\n",
      "1\n",
      "2\n",
      "3\n",
      "5\n",
      "8\n"
     ]
    }
   ],
   "source": [
    "print_fibonacci(10)"
   ]
  },
  {
   "cell_type": "markdown",
   "id": "2d59aa2e",
   "metadata": {},
   "source": [
    "10. Write a Python program to count the number of digits in a given number using a while \n",
    "loop."
   ]
  },
  {
   "cell_type": "code",
   "execution_count": 29,
   "id": "9b9b4bc1",
   "metadata": {},
   "outputs": [],
   "source": [
    "def num_digits(n):\n",
    "    num_digits = 0\n",
    "    while n != 0:\n",
    "        n //= 10\n",
    "        num_digits += 1\n",
    "    return num_digits"
   ]
  },
  {
   "cell_type": "code",
   "execution_count": 30,
   "id": "57f1d786",
   "metadata": {},
   "outputs": [
    {
     "data": {
      "text/plain": [
       "6"
      ]
     },
     "execution_count": 30,
     "metadata": {},
     "output_type": "execute_result"
    }
   ],
   "source": [
    "num_digits(100012)"
   ]
  },
  {
   "cell_type": "markdown",
   "id": "a82ec73a",
   "metadata": {},
   "source": [
    "## For Loop Questions"
   ]
  },
  {
   "cell_type": "markdown",
   "id": "23ba3850",
   "metadata": {},
   "source": [
    "1.Write a Python program to construct the following pattern, using a nested for loop."
   ]
  },
  {
   "cell_type": "code",
   "execution_count": 31,
   "id": "ff9e3284",
   "metadata": {},
   "outputs": [
    {
     "data": {
      "text/plain": [
       "'\\n*\\n* *\\n* * *\\n* * * *\\n* * * * *\\n* * * *\\n* * *\\n* *\\n*\\n'"
      ]
     },
     "execution_count": 31,
     "metadata": {},
     "output_type": "execute_result"
    }
   ],
   "source": [
    "'''\n",
    "*\n",
    "* *\n",
    "* * *\n",
    "* * * *\n",
    "* * * * *\n",
    "* * * *\n",
    "* * *\n",
    "* *\n",
    "*\n",
    "'''"
   ]
  },
  {
   "cell_type": "code",
   "execution_count": 32,
   "id": "114521ad",
   "metadata": {},
   "outputs": [],
   "source": [
    "def print_astericks(min_num_astericks, max_num_astericks):\n",
    "    pattern = ''\n",
    "    for i in range(min_num_astericks, max_num_astericks):\n",
    "        pattern += '* ' * i\n",
    "        pattern += '\\n'\n",
    "    for j in range(max_num_astericks, min_num_astericks-1, -1):\n",
    "        pattern += '* ' * j\n",
    "        pattern += '\\n'\n",
    "    print(pattern)"
   ]
  },
  {
   "cell_type": "code",
   "execution_count": 33,
   "id": "2e09b200",
   "metadata": {},
   "outputs": [
    {
     "name": "stdout",
     "output_type": "stream",
     "text": [
      "* \n",
      "* * \n",
      "* * * \n",
      "* * * * \n",
      "* * * * * \n",
      "* * * * \n",
      "* * * \n",
      "* * \n",
      "* \n",
      "\n"
     ]
    }
   ],
   "source": [
    "print_astericks(1, 5)"
   ]
  },
  {
   "cell_type": "markdown",
   "id": "85295a46",
   "metadata": {},
   "source": [
    "2.Write a Python program that prints all the numbers from 0 to 6 except 3 and 6.\n",
    "Note : Use 'continue' statement."
   ]
  },
  {
   "cell_type": "code",
   "execution_count": 34,
   "id": "187b14ec",
   "metadata": {},
   "outputs": [],
   "source": [
    "def except_3_and_6():\n",
    "    for i in range(0, 7):\n",
    "        if i == 3 or i == 6:\n",
    "            continue\n",
    "        else:\n",
    "            print(i)"
   ]
  },
  {
   "cell_type": "code",
   "execution_count": 35,
   "id": "a7a4b793",
   "metadata": {},
   "outputs": [
    {
     "name": "stdout",
     "output_type": "stream",
     "text": [
      "0\n",
      "1\n",
      "2\n",
      "4\n",
      "5\n"
     ]
    }
   ],
   "source": [
    "except_3_and_6()"
   ]
  },
  {
   "cell_type": "markdown",
   "id": "cccac428",
   "metadata": {},
   "source": [
    "Important:\n",
    "3.Write a Python program that iterates the integers from 1 to 50. For multiples of \n",
    "three print \"Fizz\" instead of the number and for multiples of five print \"Buzz\". For \n",
    "numbers that are multiples of three and five, print \"FizzBuzz\".\n",
    "Sample Output :\n",
    "fizzbuzz\n",
    "1\n",
    "2\n",
    "fizz\n",
    "4\n",
    "buzz"
   ]
  },
  {
   "cell_type": "code",
   "execution_count": 36,
   "id": "812ad19f",
   "metadata": {},
   "outputs": [],
   "source": [
    "def fizzbuzz():\n",
    "    for i in range(1, 51):\n",
    "        if i % 3 == 0 and i % 5 == 0:\n",
    "            print(\"FizzBuzz\")\n",
    "        elif i % 3 == 0:\n",
    "            print(\"Fizz\")\n",
    "        elif i % 5 == 0:\n",
    "            print(\"Buzz\")\n",
    "        else:\n",
    "            print(i)"
   ]
  },
  {
   "cell_type": "code",
   "execution_count": 37,
   "id": "0f99eec6",
   "metadata": {},
   "outputs": [
    {
     "name": "stdout",
     "output_type": "stream",
     "text": [
      "1\n",
      "2\n",
      "Fizz\n",
      "4\n",
      "Buzz\n",
      "Fizz\n",
      "7\n",
      "8\n",
      "Fizz\n",
      "Buzz\n",
      "11\n",
      "Fizz\n",
      "13\n",
      "14\n",
      "FizzBuzz\n",
      "16\n",
      "17\n",
      "Fizz\n",
      "19\n",
      "Buzz\n",
      "Fizz\n",
      "22\n",
      "23\n",
      "Fizz\n",
      "Buzz\n",
      "26\n",
      "Fizz\n",
      "28\n",
      "29\n",
      "FizzBuzz\n",
      "31\n",
      "32\n",
      "Fizz\n",
      "34\n",
      "Buzz\n",
      "Fizz\n",
      "37\n",
      "38\n",
      "Fizz\n",
      "Buzz\n",
      "41\n",
      "Fizz\n",
      "43\n",
      "44\n",
      "FizzBuzz\n",
      "46\n",
      "47\n",
      "Fizz\n",
      "49\n",
      "Buzz\n"
     ]
    }
   ],
   "source": [
    "fizzbuzz()"
   ]
  },
  {
   "cell_type": "markdown",
   "id": "0d5e1a16",
   "metadata": {},
   "source": [
    "4.Write a Python program that takes two digits m (row) and n (column) as input \n",
    "and generates a two-dimensional array. The element value in the i-th row and j-th \n",
    "column of the array should be i*j.\n",
    "Note :\n",
    "i = 0,1.., m-1\n",
    "j = 0,1, n-1.\n",
    "Test Data : Rows = 3, Columns = 4\n",
    "Expected Result : [[0, 0, 0, 0], [0, 1, 2, 3], [0, 2, 4, 6]]"
   ]
  },
  {
   "cell_type": "code",
   "execution_count": 38,
   "id": "9bd0503b",
   "metadata": {},
   "outputs": [],
   "source": [
    "def compile_arr(m, n):\n",
    "    arr = []\n",
    "    for i in range(m):\n",
    "        arr.append([])\n",
    "        for j in range(n):\n",
    "            arr[i].append(i * j)\n",
    "    return arr"
   ]
  },
  {
   "cell_type": "code",
   "execution_count": 39,
   "id": "659f40f0",
   "metadata": {},
   "outputs": [
    {
     "data": {
      "text/plain": [
       "[[0, 0, 0, 0], [0, 1, 2, 3], [0, 2, 4, 6]]"
      ]
     },
     "execution_count": 39,
     "metadata": {},
     "output_type": "execute_result"
    }
   ],
   "source": [
    "compile_arr(3, 4)"
   ]
  },
  {
   "cell_type": "markdown",
   "id": "611dd7fe",
   "metadata": {},
   "source": [
    "5. Write a Python program to create the multiplication table (from 1 to 10) of a \n",
    "number."
   ]
  },
  {
   "cell_type": "code",
   "execution_count": 40,
   "id": "b07b4bb2",
   "metadata": {},
   "outputs": [],
   "source": [
    "def generate_multiplication_table(n):\n",
    "    for i in range(1, 11):\n",
    "        print(f'{n} * {i} = {n * i}')"
   ]
  },
  {
   "cell_type": "code",
   "execution_count": 41,
   "id": "2e7c04e5",
   "metadata": {},
   "outputs": [
    {
     "name": "stdout",
     "output_type": "stream",
     "text": [
      "7 * 1 = 7\n",
      "7 * 2 = 14\n",
      "7 * 3 = 21\n",
      "7 * 4 = 28\n",
      "7 * 5 = 35\n",
      "7 * 6 = 42\n",
      "7 * 7 = 49\n",
      "7 * 8 = 56\n",
      "7 * 9 = 63\n",
      "7 * 10 = 70\n"
     ]
    }
   ],
   "source": [
    "generate_multiplication_table(7)"
   ]
  },
  {
   "cell_type": "code",
   "execution_count": null,
   "id": "0de3d7d3",
   "metadata": {},
   "outputs": [],
   "source": []
  }
 ],
 "metadata": {
  "kernelspec": {
   "display_name": "Python 3 (ipykernel)",
   "language": "python",
   "name": "python3"
  },
  "language_info": {
   "codemirror_mode": {
    "name": "ipython",
    "version": 3
   },
   "file_extension": ".py",
   "mimetype": "text/x-python",
   "name": "python",
   "nbconvert_exporter": "python",
   "pygments_lexer": "ipython3",
   "version": "3.9.7"
  }
 },
 "nbformat": 4,
 "nbformat_minor": 5
}
