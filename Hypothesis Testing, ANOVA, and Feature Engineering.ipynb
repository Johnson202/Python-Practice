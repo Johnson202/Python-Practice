{
 "cells": [
  {
   "cell_type": "markdown",
   "id": "327d9ccc",
   "metadata": {},
   "source": [
    "# Hypothesis Testing"
   ]
  },
  {
   "cell_type": "markdown",
   "id": "4ba75560",
   "metadata": {},
   "source": [
    "### 1.\tA drug company is testing a new medication that is designed to lower cholesterol levels in patients. The company wants to be sure that the medication is effective, but also wants to avoid false claims. What is the risk of making a type 1 error in this scenario, and how could the company minimize this risk?"
   ]
  },
  {
   "cell_type": "markdown",
   "id": "3952c50e",
   "metadata": {},
   "source": [
    "Ans)  A Type 1 error, also referred to as a false positive, happens when the null hypothesis is disregarded even though it is correct. A Type 1 error would be asserting that a drug is effective in lowering cholesterol levels when it isn't, as in the case of a pharmaceutical company testing a new cholesterol-lowering drug.\n",
    "\n",
    "The drug company can use a number of tactics to reduce the risk of Type 1 errors, including:\n",
    "\n",
    "a.\tChoosing an appropriate sample size: A power analysis can be used to choose an appropriate sample size and ensure that the study has enough statistical power to identify significant variations in cholesterol levels. In general, the likelihood of Type 1 errors is decreased by larger sample sizes. \n",
    "\n",
    "b.\tStrict significance level: Instead of using the standard significance level (alpha) of 0.05, the company may choose to use a strict significance level (alpha) for their hypothesis test, such as 0.01 or 0.005. The likelihood of rejecting the null hypothesis when it is true is decreased as a result.\n",
    "\n",
    "c.\tUsing a placebo control group: The business can include a control group in a clinical trial that receives a placebo rather than the active medication. The company can distinguish between the medication's actual effectiveness and any potential placebo effects by comparing the effects of the medication group to the placebo group.\n",
    "\n",
    "d.\tConduct a well-designed study: A well-designed study can reduce potential biases and increase the reliability of the results by adhering to strict protocols, such as proper randomization, blinding, and control groups.\n",
    "\n",
    "e.\t Seek independent validation: The business can work with outside professionals or regulatory organizations to carry out an impartial review of the study's findings. By doing this, bias is lessened and the findings' accuracy and dependability are guaranteed.\n",
    "\n",
    "f.\tRepeat the study: Carrying out several independent studies on various populations can offer more solid proof of the drug's efficacy and support the preliminary findings."
   ]
  },
  {
   "cell_type": "markdown",
   "id": "57c96208",
   "metadata": {},
   "source": [
    "### 2.\tA court is trying to determine whether a defendant is guilty or innocent of a crime. What is the risk of making a type 2 error in this scenario, and how could the court minimize this risk?"
   ]
  },
  {
   "cell_type": "markdown",
   "id": "07c2c938",
   "metadata": {},
   "source": [
    "Ans) When the court fails to reject the null hypothesis (innocence) even though it is false (the defendant is guilty), this is referred to as a Type 2 error, also known as a false negative in the context of a criminal trial. Making a Type 2 error here runs the risk of wrongful acquittal of an innocent defendant. The court has several options for reducing this risk. These consist of conducting a thorough investigation, gathering and evaluating all pertinent evidence, allowing for a fair and impartial trial procedure, giving the defense enough resources, allowing expert testimony when necessary, and emphasizing the idea of \"innocent until proven guilty\" to ensure the burden of proof rests with the prosecution. These procedures can help the court work towards its goals."
   ]
  },
  {
   "cell_type": "markdown",
   "id": "03f529ce",
   "metadata": {},
   "source": [
    "### 3.\tA marketing company is testing the effectiveness of a new advertising campaign. The company wants to be sure that the campaign is effective, but also wants to avoid spending money on an ineffective campaign. What is the risk of making a type 1 error in this scenario, and how could the company minimize this risk?"
   ]
  },
  {
   "cell_type": "markdown",
   "id": "2c50557d",
   "metadata": {},
   "source": [
    "Ans) A Type 1 error, or false positive, would happen if the business concludes that the campaign is effective when it isn't when testing the efficacy of a new advertising campaign. The danger in this situation is that the business could spend time and money on an ineffective campaign. The business has several options for reducing this risk. Before launching the campaign, these include thorough market research and audience analysis, setting clear, measurable goals for success, implementing appropriate tracking and measurement mechanisms to assess the campaign's impact, performing A/B testing or control group comparisons, and getting feedback from the target audience. The company can obtain more precise data and make knowledgeable decisions about the market by putting these measures into practice."
   ]
  },
  {
   "cell_type": "markdown",
   "id": "766bfddd",
   "metadata": {},
   "source": [
    "### 4.\tA researcher is testing a hypothesis that a new drug can cure a particular disease. The researcher wants to be sure that the drug is effective, but also wants to avoid false claims. What is the risk of making a type 1 error in this scenario, and how could the researcher minimize this risk?"
   ]
  },
  {
   "cell_type": "markdown",
   "id": "7273d0e0",
   "metadata": {},
   "source": [
    "Ans) A Type 1 error, also known as a false positive, happens when a researcher concludes that a drug is effective in treating a disease when it isn't. This can happen when a new drug is being tested to determine its ability to treat a specific disease. Here, there is a chance that unjustified enthusiasm or patient-harming outcomes could result from false claims. The researcher can use several strategies to reduce this risk. These involve carrying out exacting and well-planned clinical trials with suitable sample sizes, incorporating placebo control groups, using statistical analysis to establish significance levels and confidence intervals, adhering to predetermined success criteria, making sure blinding and randomization are implemented whenever possible, seeking independent validation of results, and publishing findings in reputable peer-reviewed journals. By adhering to these procedures, the researcher can increase the study's validity and reliability, lessen the possibility of making exaggerated claims about the efficacy of the drug, and provide accurate and trustworthy information about the drug's ability to treat the disease."
   ]
  },
  {
   "cell_type": "markdown",
   "id": "b5e0a5be",
   "metadata": {},
   "source": [
    "### 5.\tA teacher is trying to determine whether a new teaching method is effective in improving student performance. The teacher wants to be sure that the method is effective, but also wants to avoid false claims. What is the risk of making a type 1 error in this scenario, and how could the teacher minimize this risk?"
   ]
  },
  {
   "cell_type": "markdown",
   "id": "f9ce1acd",
   "metadata": {},
   "source": [
    "Ans) An example of a Type 1 error, also known as a false positive, would be if a teacher incorrectly believes that a new teaching strategy is improving student performance when it isn't. Here, there is a risk that exaggerated claims could encourage the use of a bad teaching strategy and possibly harm students' academic progress. There are several tactics the teacher can use to reduce this risk. These include performing controlled experiments or comparative studies with control groups, using reliable and valid assessment measures to evaluate student performance, making sure the sample size is big enough for statistical power, thinking about longitudinal studies to look at the long-term effects of the teaching method, getting input from students and coworkers, and sharing the findings for peer review and collaboration. By putting these measures in place, the instructor can gather trustworthy data, assess the efficacy of the teaching strategy, and lessen the possibility of exaggerating the results of an ineffective instructional strategy."
   ]
  },
  {
   "cell_type": "markdown",
   "id": "f6e5a466",
   "metadata": {},
   "source": [
    "### 6.\tThe average height of students in a school is 68 inches with a standard deviation of 4 inches. What is the z score of a student who is 72 inches tall?"
   ]
  },
  {
   "cell_type": "markdown",
   "id": "3296039d",
   "metadata": {},
   "source": [
    "Ans) We can use the following formula to determine a student's z-score who is 72 inches tall:\n",
    "z = (x - μ) / σ\n",
    "where: - x is the measurement we want to turn into a z-score (in this case, 72 inches);\n",
    "- (Students' average height, given as 68 inches), is the population mean.\n",
    "The population standard deviation is indicated as being 4 inches.\n",
    "\n",
    "When the values are plugged in, we get:\n",
    "\n",
    "z = (72 - 68) / 4\n",
    "\n",
    "To make the calculation easier:\n",
    "\n",
    "z = 4 / 4\n",
    "\n",
    "Consequently, a student who is 72 inches tall has a z-score of 1. \n",
    "\n",
    "The z-score indicates how far away from the mean each individual value is. In this instance, the student's height of 72 inches is one standard deviation higher than the school's average student height."
   ]
  },
  {
   "cell_type": "code",
   "execution_count": 1,
   "id": "22a27aef",
   "metadata": {},
   "outputs": [
    {
     "data": {
      "text/plain": [
       "1.0"
      ]
     },
     "execution_count": 1,
     "metadata": {},
     "output_type": "execute_result"
    }
   ],
   "source": [
    "mean_height = 68\n",
    "stdev_height = 4\n",
    "student_height = 72\n",
    "Z_height = (student_height-mean_height)/stdev_height\n",
    "Z_height"
   ]
  },
  {
   "cell_type": "markdown",
   "id": "681cd1a9",
   "metadata": {},
   "source": [
    "### 7.\tA company wants to compare the salaries of its employees with those of other companies in the same industry. The mean salary in the industry is 60,000 USD per year with a standard deviation of 5,000 USD. If the company's mean salary is 65,000 USD per year, what is the z score for the company?"
   ]
  },
  {
   "cell_type": "markdown",
   "id": "eafb5bc7",
   "metadata": {},
   "source": [
    "Ans) To calculate the z-score for the company's mean salary, we can use the formula:\n",
    "\n",
    "z = (x - μ) / σ\n",
    "\n",
    "where:\n",
    "- x is the value we want to convert to a z-score \n",
    "(the company's mean salary, 65,000 USD per year in this case)\n",
    "- μ is the population mean \n",
    "(mean salary in the industry, 60,000 USD per year)\n",
    "- σ is the population standard deviation \n",
    "(5,000 USD per year)\n",
    "\n",
    "Plugging in the values, we have:\n",
    "\n",
    "z = (65,000 - 60,000) / 5,000\n",
    "\n",
    "Simplifying the equation:\n",
    "\n",
    "z = 5,000 / 5,000\n",
    "\n",
    "Therefore, the z-score for the company's mean salary is 1.\n",
    "\n",
    "The z-score measures how many standard deviations an individual value or group's value is from the mean. In this case, the company's mean salary of 65,000 USD per year is 1 standard deviation above the mean salary in the industry."
   ]
  },
  {
   "cell_type": "code",
   "execution_count": 2,
   "id": "5e1ac995",
   "metadata": {},
   "outputs": [
    {
     "data": {
      "text/plain": [
       "1.0"
      ]
     },
     "execution_count": 2,
     "metadata": {},
     "output_type": "execute_result"
    }
   ],
   "source": [
    "mean_salary = 60000\n",
    "stdev_salary = 5000\n",
    "company_salary = 65000\n",
    "Z_company = (company_salary - mean_salary)/stdev_salary\n",
    "Z_company"
   ]
  },
  {
   "cell_type": "markdown",
   "id": "9738c8a1",
   "metadata": {},
   "source": [
    "### 8.\tA university has a policy that any student who scores below the 25th percentile on an admission test cannot be admitted. If the test scores are normally distributed with a mean of 75 and a standard deviation of 10, what is the minimum score required for admission?"
   ]
  },
  {
   "cell_type": "markdown",
   "id": "d0213acf",
   "metadata": {},
   "source": [
    "Ans)  To find the minimum score required for admission, we need to determine the value at\n",
    "the 25th percentile of the normal distribution.\n",
    "\n",
    "The z-score corresponding to the 25th percentile can be found using the z-score formula:\n",
    "\n",
    "z = (x − μ) / σ\n",
    "\n",
    "where:\n",
    "x is the value we want to find,\n",
    "μ is the mean of the distribution (75 in this case), and\n",
    "σ is the standard deviation of the distribution (10 in this case).\n",
    "From standard normal distribution tables or using a calculator, we can find that the z-score\n",
    "corresponding to the 25th percentile is approximately -0.674.\n",
    "−0.674 = (x − 75) / 10\n",
    "\n",
    "Solving for x:\n",
    "\n",
    "-6.74 = x − 75\n",
    "∴ x ≈ 68.26\n",
    "\n",
    "Therefore, the minimum score required for admission is approximately 68.26."
   ]
  },
  {
   "cell_type": "code",
   "execution_count": 3,
   "id": "ca351aef",
   "metadata": {},
   "outputs": [
    {
     "data": {
      "text/plain": [
       "68.26"
      ]
     },
     "execution_count": 3,
     "metadata": {},
     "output_type": "execute_result"
    }
   ],
   "source": [
    "from scipy import stats\n",
    "mean_score = 75\n",
    "stdev_score = 10\n",
    "Z_25th_percentile = stats.norm.ppf(0.25)\n",
    "min_score = Z_25th_percentile * stdev_score + mean_score\n",
    "round(min_score, 2)"
   ]
  },
  {
   "cell_type": "markdown",
   "id": "162a4acc",
   "metadata": {},
   "source": [
    "### 9.\tA company produces light bulbs with a mean life of 1000 hours and a standard deviation of 100 hours. If the company wants to provide a warranty for bulbs that last in the top 10% of the distribution, what is the minimum life required for the warranty?"
   ]
  },
  {
   "cell_type": "markdown",
   "id": "e9ee9def",
   "metadata": {},
   "source": [
    "Ans)  To find the minimum life required for the warranty, we need to determine the value at\n",
    "the 90th percentile of the distribution.\n",
    "The z-score corresponding to the 90th percentile can be found using the z-score formula:\n",
    "\n",
    "z = (x − μ) / σ\n",
    "\n",
    "where:\n",
    "x is the value we want to find,\n",
    "μ is the mean of the distribution (1000 hours in this case), and\n",
    "σ is the standard deviation of the distribution (100 hours in this case).\n",
    "From standard normal distribution tables or using a calculator, we can find that the z-score\n",
    "corresponding to the 90th percentile is approximately 1.28.\n",
    "1.28 = (x − 1000) / 100\n",
    "\n",
    "Solving for x:\n",
    "\n",
    "1.28 ∗ 100 = x − 1000\n",
    "∴ x = 1128\n",
    "\n",
    "Therefore, the minimum life required for the warranty is 1128 hours."
   ]
  },
  {
   "cell_type": "code",
   "execution_count": 4,
   "id": "dd43f2d2",
   "metadata": {},
   "outputs": [
    {
     "data": {
      "text/plain": [
       "1128"
      ]
     },
     "execution_count": 4,
     "metadata": {},
     "output_type": "execute_result"
    }
   ],
   "source": [
    "mean_lightbulb_life_in_hrs = 1000\n",
    "stdev_lightbulb_life_in_hrs = 100\n",
    "#top 10% of distribution corresponds to Z score of cumulative prob. of 90%\n",
    "Z_90th_percentile = stats.norm.ppf(0.9)\n",
    "min_lightbulb_life_for_warranty = Z_90th_percentile * stdev_lightbulb_life_in_hrs + mean_lightbulb_life_in_hrs\n",
    "round(min_lightbulb_life_for_warranty)"
   ]
  },
  {
   "cell_type": "markdown",
   "id": "96efda74",
   "metadata": {},
   "source": [
    "### 10.\tA teacher wants to know how well her students did on a test compared to the average performance of students across the country. The average score on the test across the country is 75 with a standard deviation of 10. If the teacher's class has an average score of 80, what is the z score for the class?"
   ]
  },
  {
   "cell_type": "markdown",
   "id": "763d83ff",
   "metadata": {},
   "source": [
    "Ans) To calculate the z-score for the teacher's class, we can use the formula:\n",
    "z = (x − μ) / σ\n",
    "where:\n",
    "x is the value we want to calculate the z-score for (80 in this case),\n",
    "μ is the mean of the distribution (75, the average score across the country), and\n",
    "σ is the standard deviation of the distribution (10, the standard deviation across the country).\n",
    "z = (80 − 75) / 10 = 0.5\n",
    "Therefore, the z-score for the teacher's class with an average score of 80 is 0.5."
   ]
  },
  {
   "cell_type": "code",
   "execution_count": 5,
   "id": "0979251c",
   "metadata": {},
   "outputs": [],
   "source": [
    "avg_score = 75\n",
    "stdev_avg_score = 10\n",
    "class_score = 80\n",
    "Z_class_score = (class_score - avg_score) / stdev_avg_score"
   ]
  },
  {
   "cell_type": "code",
   "execution_count": 6,
   "id": "109a3414",
   "metadata": {},
   "outputs": [
    {
     "data": {
      "text/plain": [
       "0.5"
      ]
     },
     "execution_count": 6,
     "metadata": {},
     "output_type": "execute_result"
    }
   ],
   "source": [
    "Z_class_score"
   ]
  },
  {
   "cell_type": "markdown",
   "id": "4ee6aa90",
   "metadata": {},
   "source": [
    "# More Hypothesis Testing"
   ]
  },
  {
   "cell_type": "markdown",
   "id": "b7509562",
   "metadata": {},
   "source": [
    "### Problem Statement 1: Blood glucose levels for obese patients have a mean of 100 with a standard deviation of 15. A researcher thinks that a diet high in raw cornstarch will have a positive effect on blood glucose levels. A sample of 36 patients who have tried the raw cornstarch diet have a mean glucose level of 108. Test the hypothesis that the raw cornstarch had an effect or not."
   ]
  },
  {
   "cell_type": "code",
   "execution_count": 7,
   "id": "84cedbad",
   "metadata": {},
   "outputs": [
    {
     "name": "stdout",
     "output_type": "stream",
     "text": [
      "True\n"
     ]
    }
   ],
   "source": [
    "#1-tailed Z-test\n",
    "Z_95th_percentile = stats.norm.ppf(0.95) #alpha = 0.05 (significance level)\n",
    "mean_glucose = 100\n",
    "stdev_mean_glucose = 15\n",
    "mean_glucose_with_cornstarch = 108\n",
    "sample_size = 36\n",
    "Z_mean_glucose_with_cornstarch = (mean_glucose_with_cornstarch - mean_glucose) / (stdev_mean_glucose / 36**0.5)\n",
    "print(Z_mean_glucose_with_cornstarch > Z_95th_percentile)\n",
    "# therefore, since Z statistic of those with mean glucose levels of 108 is greater than the Z score at an alpha of 0.05, we can\n",
    "# conclude that the raw cornstarch did have an effect on the patients' glucose levels"
   ]
  },
  {
   "cell_type": "markdown",
   "id": "74f041f4",
   "metadata": {},
   "source": [
    "### Problem Statement 2: In one state, 52% of the voters are Republicans, and 48% are Democrats. In a second state, 47% of the voters are Republicans, and 53% are Democrats. Suppose a simple random sample of 100 voters are surveyed from each state. What is the probability that the survey will show a greater percentage of Republican voters in the second state than in the first state?"
   ]
  },
  {
   "cell_type": "code",
   "execution_count": 8,
   "id": "98e987ac",
   "metadata": {},
   "outputs": [
    {
     "name": "stdout",
     "output_type": "stream",
     "text": [
      "True True\n"
     ]
    }
   ],
   "source": [
    "# Test the hypothesis or form a confidence interval for the difference between two independent population proportions, π1 – π2\n",
    "# comparing Republicans from first state (52%) and second state (47%)\n",
    "# n1*π1 >= 5? n2*π2 >= 5?\n",
    "n1 = 100\n",
    "state1_rep = 0.52\n",
    "n2 = 100\n",
    "state2_rep = 0.47\n",
    "print(n1 * state1_rep >= 5, \n",
    "      n2 * state2_rep >= 5)\n",
    "# required assumption is satisfied, so can use following equations to solve"
   ]
  },
  {
   "cell_type": "code",
   "execution_count": 9,
   "id": "b8743b93",
   "metadata": {},
   "outputs": [
    {
     "data": {
      "text/plain": [
       "0.495"
      ]
     },
     "execution_count": 9,
     "metadata": {},
     "output_type": "execute_result"
    }
   ],
   "source": [
    "pooled_estimate = (state1_rep*n1 + state2_rep*n2) / (n1 + n2)\n",
    "pooled_estimate"
   ]
  },
  {
   "cell_type": "code",
   "execution_count": 10,
   "id": "e82352e7",
   "metadata": {},
   "outputs": [
    {
     "data": {
      "text/plain": [
       "-0.7071421391774789"
      ]
     },
     "execution_count": 10,
     "metadata": {},
     "output_type": "execute_result"
    }
   ],
   "source": [
    "z_states_rep = (state2_rep - state1_rep) / (pooled_estimate*(1-pooled_estimate)*((1/100) + (1/100)))**(0.5)\n",
    "z_states_rep"
   ]
  },
  {
   "cell_type": "code",
   "execution_count": 11,
   "id": "87a1a03c",
   "metadata": {},
   "outputs": [
    {
     "name": "stdout",
     "output_type": "stream",
     "text": [
      "23.97%\n"
     ]
    }
   ],
   "source": [
    "prob = stats.norm.cdf(z_states_rep)\n",
    "print(f'{round(prob * 100, 2)}%')"
   ]
  },
  {
   "cell_type": "markdown",
   "id": "3767ac69",
   "metadata": {},
   "source": [
    "### Problem Statement 3: You take the SAT and score 1100. The mean score for the SAT is 1026 and the standard deviation is 209. How well did you score on the test compared to the average test taker?"
   ]
  },
  {
   "cell_type": "code",
   "execution_count": 12,
   "id": "2839b6e5",
   "metadata": {},
   "outputs": [
    {
     "data": {
      "text/plain": [
       "0.64"
      ]
     },
     "execution_count": 12,
     "metadata": {},
     "output_type": "execute_result"
    }
   ],
   "source": [
    "your_score = 1100\n",
    "mean_score = 1026\n",
    "stdev_mean_score = 209\n",
    "Z_your_score = (your_score - mean_score) / stdev_mean_score\n",
    "percentile_your_score = stats.norm.cdf(Z_your_score)\n",
    "round(percentile_your_score, 2)\n",
    "# your score is at the 64th percentile, meaning you scored higher than the 14% that still scored above average (50th percentile)"
   ]
  },
  {
   "cell_type": "code",
   "execution_count": null,
   "id": "32b6f894",
   "metadata": {},
   "outputs": [],
   "source": []
  }
 ],
 "metadata": {
  "kernelspec": {
   "display_name": "Python 3 (ipykernel)",
   "language": "python",
   "name": "python3"
  },
  "language_info": {
   "codemirror_mode": {
    "name": "ipython",
    "version": 3
   },
   "file_extension": ".py",
   "mimetype": "text/x-python",
   "name": "python",
   "nbconvert_exporter": "python",
   "pygments_lexer": "ipython3",
   "version": "3.9.7"
  }
 },
 "nbformat": 4,
 "nbformat_minor": 5
}
