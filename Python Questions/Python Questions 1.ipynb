{
 "cells": [
  {
   "cell_type": "markdown",
   "id": "2a8f78b2",
   "metadata": {},
   "source": [
    "1. Write a function that takes a list of numbers as input and returns\n",
    "the sum of all the even numbers in the list."
   ]
  },
  {
   "cell_type": "code",
   "execution_count": 1,
   "id": "1932718a",
   "metadata": {},
   "outputs": [],
   "source": [
    "def even_num_sum(lst_num):\n",
    "    sum_ = 0\n",
    "    for num in lst_num:\n",
    "        if num % 2 == 0:\n",
    "            sum_ += num\n",
    "            \n",
    "    return sum_"
   ]
  },
  {
   "cell_type": "code",
   "execution_count": 2,
   "id": "cd97644b",
   "metadata": {},
   "outputs": [
    {
     "data": {
      "text/plain": [
       "130"
      ]
     },
     "execution_count": 2,
     "metadata": {},
     "output_type": "execute_result"
    }
   ],
   "source": [
    "even_num_sum([1, 2, 3, 4, 5, 6, 7, 8, 9, 10, 100])"
   ]
  },
  {
   "cell_type": "markdown",
   "id": "8efa93d6",
   "metadata": {},
   "source": [
    "2. Write a function that takes a string as input and returns True if\n",
    "the string is a palindrome (i.e., reads the same backwards as\n",
    "forwards), and False otherwise."
   ]
  },
  {
   "cell_type": "code",
   "execution_count": 3,
   "id": "8dc86584",
   "metadata": {},
   "outputs": [],
   "source": [
    "def is_palindrome(string):\n",
    "    rev_string = ''.join(list(reversed(string)))\n",
    "    return rev_string == string"
   ]
  },
  {
   "cell_type": "code",
   "execution_count": 4,
   "id": "ad4451fa",
   "metadata": {},
   "outputs": [
    {
     "data": {
      "text/plain": [
       "True"
      ]
     },
     "execution_count": 4,
     "metadata": {},
     "output_type": "execute_result"
    }
   ],
   "source": [
    "is_palindrome(\"ababa\")"
   ]
  },
  {
   "cell_type": "code",
   "execution_count": 5,
   "id": "1372a786",
   "metadata": {},
   "outputs": [
    {
     "data": {
      "text/plain": [
       "False"
      ]
     },
     "execution_count": 5,
     "metadata": {},
     "output_type": "execute_result"
    }
   ],
   "source": [
    "is_palindrome(\"ababab\")"
   ]
  },
  {
   "cell_type": "markdown",
   "id": "39cfcd02",
   "metadata": {},
   "source": [
    "3. Write a function that takes a list of integers as input and returns\n",
    "the maximum difference between any two numbers in the list."
   ]
  },
  {
   "cell_type": "code",
   "execution_count": 6,
   "id": "84467126",
   "metadata": {},
   "outputs": [],
   "source": [
    "def max_min_diff(lst_num):\n",
    "    return max(lst_num) - min(lst_num)"
   ]
  },
  {
   "cell_type": "code",
   "execution_count": 7,
   "id": "5146f1a6",
   "metadata": {},
   "outputs": [
    {
     "data": {
      "text/plain": [
       "110"
      ]
     },
     "execution_count": 7,
     "metadata": {},
     "output_type": "execute_result"
    }
   ],
   "source": [
    "max_min_diff([1, 2, -10, 3, 4, 5, 6, 7, 8, 9, 10, 100])"
   ]
  },
  {
   "cell_type": "markdown",
   "id": "beaa5ffe",
   "metadata": {},
   "source": [
    "4. Write a function that takes a list of strings as input and returns a\n",
    "new list containing only the strings that start with the letter 'a'."
   ]
  },
  {
   "cell_type": "code",
   "execution_count": 8,
   "id": "f40bc3b7",
   "metadata": {},
   "outputs": [],
   "source": [
    "def strings_starting_with_a(lst_str):\n",
    "    lst_string_start_with_a = []\n",
    "    for string in lst_str:\n",
    "        if string[0] == 'a':\n",
    "            lst_string_start_with_a.append(string)\n",
    "            \n",
    "    return lst_string_start_with_a"
   ]
  },
  {
   "cell_type": "code",
   "execution_count": 9,
   "id": "cbf1dd2a",
   "metadata": {},
   "outputs": [
    {
     "data": {
      "text/plain": [
       "['abc', 'ant', 'avalanche', 'a123']"
      ]
     },
     "execution_count": 9,
     "metadata": {},
     "output_type": "execute_result"
    }
   ],
   "source": [
    "strings_starting_with_a(['abc', 'bcb', 'hello', 'world', 'ant', 'avalanche', 'a123', 'ABC'])"
   ]
  },
  {
   "cell_type": "markdown",
   "id": "01c4f58e",
   "metadata": {},
   "source": [
    "5. Write a function that takes a list of integers as input and returns\n",
    "the second largest number in the list."
   ]
  },
  {
   "cell_type": "code",
   "execution_count": 10,
   "id": "57625ee5",
   "metadata": {},
   "outputs": [],
   "source": [
    "def second_largest_num(lst_num):\n",
    "    max_num = max(lst_num)\n",
    "    second_max_num = min(lst_num)\n",
    "    for num in lst_num:\n",
    "        if num < max(lst_num) and num > second_max_num:\n",
    "            second_max_num = num\n",
    "            \n",
    "    return second_max_num"
   ]
  },
  {
   "cell_type": "code",
   "execution_count": 11,
   "id": "832dc228",
   "metadata": {},
   "outputs": [
    {
     "data": {
      "text/plain": [
       "221"
      ]
     },
     "execution_count": 11,
     "metadata": {},
     "output_type": "execute_result"
    }
   ],
   "source": [
    "second_largest_num([1, 2, -10, 4, 100, 60, 4444, 8, 221, -1001])"
   ]
  },
  {
   "cell_type": "markdown",
   "id": "22949b87",
   "metadata": {},
   "source": [
    "6. Write a function that takes a list of strings as input and returns\n",
    "the longest string in the list."
   ]
  },
  {
   "cell_type": "code",
   "execution_count": 12,
   "id": "5fd34740",
   "metadata": {},
   "outputs": [],
   "source": [
    "def longest_str(lst_str):\n",
    "    max_length = 0\n",
    "    for string in lst_str:\n",
    "        if len(string) > max_length:\n",
    "            max_length = len(string)\n",
    "            \n",
    "    return max_length"
   ]
  },
  {
   "cell_type": "code",
   "execution_count": 13,
   "id": "36cda358",
   "metadata": {},
   "outputs": [
    {
     "data": {
      "text/plain": [
       "30"
      ]
     },
     "execution_count": 13,
     "metadata": {},
     "output_type": "execute_result"
    }
   ],
   "source": [
    "longest_str(['abbbb', 'bbc', '', '739hsnifn', 'aaaaaaaaaaaaaaaaaaaaaaaaaaaaaa'])"
   ]
  },
  {
   "cell_type": "markdown",
   "id": "86297621",
   "metadata": {},
   "source": [
    "7. Write a function that takes a string as input and returns a new\n",
    "string where each letter is replaced by its corresponding number\n",
    "in the alphabet (e.g., 'a' becomes '1', 'b' becomes '2', etc.)."
   ]
  },
  {
   "cell_type": "code",
   "execution_count": 14,
   "id": "4cd51ea6",
   "metadata": {},
   "outputs": [],
   "source": [
    "def letter_to_num(string):\n",
    "    str_modified_to_num = ''\n",
    "    str_lower = string.lower()\n",
    "    lst_alphabet = list('abcdefghijklmnopqrstuvwxyz')\n",
    "    for i in range(len(str_lower)):\n",
    "        letter1 = str_lower[i]\n",
    "        for j in range(len(lst_alphabet)):\n",
    "            letter2 = lst_alphabet[j]\n",
    "            if letter1 == letter2:\n",
    "                str_modified_to_num += str(j + 1)\n",
    "                break\n",
    "    return str_modified_to_num"
   ]
  },
  {
   "cell_type": "code",
   "execution_count": 15,
   "id": "2b542949",
   "metadata": {},
   "outputs": [
    {
     "data": {
      "text/plain": [
       "'11413186152416'"
      ]
     },
     "execution_count": 15,
     "metadata": {},
     "output_type": "execute_result"
    }
   ],
   "source": [
    "letter_to_num(\"anmrfoxp\")"
   ]
  },
  {
   "cell_type": "markdown",
   "id": "1b9022fc",
   "metadata": {},
   "source": [
    "8. Write a function that takes a list of numbers as input and returns\n",
    "True if the list is sorted in non-decreasing order (i.e., each\n",
    "number is greater than or equal to the previous number), and\n",
    "False otherwise."
   ]
  },
  {
   "cell_type": "code",
   "execution_count": 16,
   "id": "6df2ae82",
   "metadata": {},
   "outputs": [],
   "source": [
    "def is_non_decreasing_order(lst_num):\n",
    "    for i in range(len(lst_num)-1):\n",
    "        first_num = lst_num[i]\n",
    "        next_num = lst_num[i+1]\n",
    "        if next_num < first_num:\n",
    "            return False \n",
    "    return True"
   ]
  },
  {
   "cell_type": "code",
   "execution_count": 17,
   "id": "059c70a8",
   "metadata": {},
   "outputs": [
    {
     "data": {
      "text/plain": [
       "False"
      ]
     },
     "execution_count": 17,
     "metadata": {},
     "output_type": "execute_result"
    }
   ],
   "source": [
    "is_non_decreasing_order([1, 2, 3, 4, 5, -100])"
   ]
  },
  {
   "cell_type": "markdown",
   "id": "5baeb15f",
   "metadata": {},
   "source": [
    "9. Write a function that takes a list of integers as input and returns\n",
    "the product of all the numbers in the list."
   ]
  },
  {
   "cell_type": "code",
   "execution_count": 18,
   "id": "eb12e365",
   "metadata": {},
   "outputs": [],
   "source": [
    "def product_of_nums(lst_nums):\n",
    "    prod = 1\n",
    "    for num in lst_nums:\n",
    "        prod *= num\n",
    "    return prod"
   ]
  },
  {
   "cell_type": "code",
   "execution_count": 19,
   "id": "620e55cb",
   "metadata": {},
   "outputs": [
    {
     "data": {
      "text/plain": [
       "5040"
      ]
     },
     "execution_count": 19,
     "metadata": {},
     "output_type": "execute_result"
    }
   ],
   "source": [
    "product_of_nums([1, 2, 3, 4, 5, 6, 7])"
   ]
  },
  {
   "cell_type": "markdown",
   "id": "c948c497",
   "metadata": {},
   "source": [
    "10. Write a function that takes a string as input and returns a new\n",
    "string with all the vowels removed."
   ]
  },
  {
   "cell_type": "code",
   "execution_count": 20,
   "id": "b893cbd0",
   "metadata": {},
   "outputs": [],
   "source": [
    "def remove_vowels(string):\n",
    "    str_modified = ''\n",
    "    lst_vowels = list('aeiouAIEOU')\n",
    "    for letter in string:\n",
    "        str_modified += letter\n",
    "        for vowel in lst_vowels:\n",
    "            if letter == vowel:\n",
    "                str_modified = str_modified[:-1]\n",
    "                break\n",
    "    return str_modified"
   ]
  },
  {
   "cell_type": "code",
   "execution_count": 21,
   "id": "653473d8",
   "metadata": {},
   "outputs": [
    {
     "data": {
      "text/plain": [
       "'bcdfghjklmnpqrstvwxyzBCDFGHJKLMNPQRSTVWXYZ'"
      ]
     },
     "execution_count": 21,
     "metadata": {},
     "output_type": "execute_result"
    }
   ],
   "source": [
    "remove_vowels('abcdefghijklmnopqrstuvwxyzABCDEFGHIJKLMNOPQRSTUVWXYZ')"
   ]
  },
  {
   "cell_type": "code",
   "execution_count": null,
   "id": "f232e8ca",
   "metadata": {},
   "outputs": [],
   "source": []
  }
 ],
 "metadata": {
  "kernelspec": {
   "display_name": "Python 3 (ipykernel)",
   "language": "python",
   "name": "python3"
  },
  "language_info": {
   "codemirror_mode": {
    "name": "ipython",
    "version": 3
   },
   "file_extension": ".py",
   "mimetype": "text/x-python",
   "name": "python",
   "nbconvert_exporter": "python",
   "pygments_lexer": "ipython3",
   "version": "3.9.7"
  }
 },
 "nbformat": 4,
 "nbformat_minor": 5
}
