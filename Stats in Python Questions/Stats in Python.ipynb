{
 "cells": [
  {
   "cell_type": "code",
   "execution_count": 1,
   "id": "a0261dc3",
   "metadata": {},
   "outputs": [],
   "source": [
    "import math\n",
    "import numpy as np\n",
    "from scipy import stats\n",
    "import matplotlib.pyplot as plt\n",
    "#from statistics import stdev #for samples, not pop. ((n-1) not n)\n",
    "%matplotlib inline"
   ]
  },
  {
   "cell_type": "code",
   "execution_count": 2,
   "id": "0c4a99d1",
   "metadata": {},
   "outputs": [],
   "source": [
    "#!pip install --upgrade scipy"
   ]
  },
  {
   "cell_type": "code",
   "execution_count": 3,
   "id": "f77fdd70",
   "metadata": {
    "scrolled": true
   },
   "outputs": [
    {
     "name": "stdout",
     "output_type": "stream",
     "text": [
      "['__doc__', '__loader__', '__name__', '__package__', '__spec__', 'acos', 'acosh', 'asin', 'asinh', 'atan', 'atan2', 'atanh', 'ceil', 'comb', 'copysign', 'cos', 'cosh', 'degrees', 'dist', 'e', 'erf', 'erfc', 'exp', 'expm1', 'fabs', 'factorial', 'floor', 'fmod', 'frexp', 'fsum', 'gamma', 'gcd', 'hypot', 'inf', 'isclose', 'isfinite', 'isinf', 'isnan', 'isqrt', 'lcm', 'ldexp', 'lgamma', 'log', 'log10', 'log1p', 'log2', 'modf', 'nan', 'nextafter', 'perm', 'pi', 'pow', 'prod', 'radians', 'remainder', 'sin', 'sinh', 'sqrt', 'tan', 'tanh', 'tau', 'trunc', 'ulp']\n"
     ]
    }
   ],
   "source": [
    "print(dir(math))"
   ]
  },
  {
   "cell_type": "code",
   "execution_count": 4,
   "id": "d159ea28",
   "metadata": {},
   "outputs": [
    {
     "name": "stdout",
     "output_type": "stream",
     "text": [
      "['ALLOW_THREADS', 'BUFSIZE', 'CLIP', 'DataSource', 'ERR_CALL', 'ERR_DEFAULT', 'ERR_IGNORE', 'ERR_LOG', 'ERR_PRINT', 'ERR_RAISE', 'ERR_WARN', 'FLOATING_POINT_SUPPORT', 'FPE_DIVIDEBYZERO', 'FPE_INVALID', 'FPE_OVERFLOW', 'FPE_UNDERFLOW', 'False_', 'Inf', 'Infinity', 'MAXDIMS', 'MAY_SHARE_BOUNDS', 'MAY_SHARE_EXACT', 'NAN', 'NINF', 'NZERO', 'NaN', 'PINF', 'PZERO', 'RAISE', 'RankWarning', 'SHIFT_DIVIDEBYZERO', 'SHIFT_INVALID', 'SHIFT_OVERFLOW', 'SHIFT_UNDERFLOW', 'ScalarType', 'True_', 'UFUNC_BUFSIZE_DEFAULT', 'UFUNC_PYVALS_NAME', 'WRAP', '_CopyMode', '_NoValue', '_UFUNC_API', '__NUMPY_SETUP__', '__all__', '__builtins__', '__cached__', '__config__', '__deprecated_attrs__', '__dir__', '__doc__', '__expired_functions__', '__file__', '__former_attrs__', '__future_scalars__', '__getattr__', '__loader__', '__name__', '__package__', '__path__', '__spec__', '__version__', '_add_newdoc_ufunc', '_builtins', '_distributor_init', '_financial_names', '_get_promotion_state', '_globals', '_int_extended_msg', '_mat', '_no_nep50_warning', '_pyinstaller_hooks_dir', '_pytesttester', '_set_promotion_state', '_specific_msg', '_typing', '_using_numpy2_behavior', '_utils', 'abs', 'absolute', 'add', 'add_docstring', 'add_newdoc', 'add_newdoc_ufunc', 'all', 'allclose', 'alltrue', 'amax', 'amin', 'angle', 'any', 'append', 'apply_along_axis', 'apply_over_axes', 'arange', 'arccos', 'arccosh', 'arcsin', 'arcsinh', 'arctan', 'arctan2', 'arctanh', 'argmax', 'argmin', 'argpartition', 'argsort', 'argwhere', 'around', 'array', 'array2string', 'array_equal', 'array_equiv', 'array_repr', 'array_split', 'array_str', 'asanyarray', 'asarray', 'asarray_chkfinite', 'ascontiguousarray', 'asfarray', 'asfortranarray', 'asmatrix', 'atleast_1d', 'atleast_2d', 'atleast_3d', 'average', 'bartlett', 'base_repr', 'binary_repr', 'bincount', 'bitwise_and', 'bitwise_not', 'bitwise_or', 'bitwise_xor', 'blackman', 'block', 'bmat', 'bool_', 'broadcast', 'broadcast_arrays', 'broadcast_shapes', 'broadcast_to', 'busday_count', 'busday_offset', 'busdaycalendar', 'byte', 'byte_bounds', 'bytes_', 'c_', 'can_cast', 'cast', 'cbrt', 'cdouble', 'ceil', 'cfloat', 'char', 'character', 'chararray', 'choose', 'clip', 'clongdouble', 'clongfloat', 'column_stack', 'common_type', 'compare_chararrays', 'compat', 'complex128', 'complex64', 'complex_', 'complexfloating', 'compress', 'concatenate', 'conj', 'conjugate', 'convolve', 'copy', 'copysign', 'copyto', 'corrcoef', 'correlate', 'cos', 'cosh', 'count_nonzero', 'cov', 'cross', 'csingle', 'ctypeslib', 'cumprod', 'cumproduct', 'cumsum', 'datetime64', 'datetime_as_string', 'datetime_data', 'deg2rad', 'degrees', 'delete', 'deprecate', 'deprecate_with_doc', 'diag', 'diag_indices', 'diag_indices_from', 'diagflat', 'diagonal', 'diff', 'digitize', 'disp', 'divide', 'divmod', 'dot', 'double', 'dsplit', 'dstack', 'dtype', 'dtypes', 'e', 'ediff1d', 'einsum', 'einsum_path', 'emath', 'empty', 'empty_like', 'equal', 'errstate', 'euler_gamma', 'exceptions', 'exp', 'exp2', 'expand_dims', 'expm1', 'extract', 'eye', 'fabs', 'fastCopyAndTranspose', 'fft', 'fill_diagonal', 'find_common_type', 'finfo', 'fix', 'flatiter', 'flatnonzero', 'flexible', 'flip', 'fliplr', 'flipud', 'float16', 'float32', 'float64', 'float_', 'float_power', 'floating', 'floor', 'floor_divide', 'fmax', 'fmin', 'fmod', 'format_float_positional', 'format_float_scientific', 'format_parser', 'frexp', 'from_dlpack', 'frombuffer', 'fromfile', 'fromfunction', 'fromiter', 'frompyfunc', 'fromregex', 'fromstring', 'full', 'full_like', 'gcd', 'generic', 'genfromtxt', 'geomspace', 'get_array_wrap', 'get_include', 'get_printoptions', 'getbufsize', 'geterr', 'geterrcall', 'geterrobj', 'gradient', 'greater', 'greater_equal', 'half', 'hamming', 'hanning', 'heaviside', 'histogram', 'histogram2d', 'histogram_bin_edges', 'histogramdd', 'hsplit', 'hstack', 'hypot', 'i0', 'identity', 'iinfo', 'imag', 'in1d', 'index_exp', 'indices', 'inexact', 'inf', 'info', 'infty', 'inner', 'insert', 'int16', 'int32', 'int64', 'int8', 'int_', 'intc', 'integer', 'interp', 'intersect1d', 'intp', 'invert', 'is_busday', 'isclose', 'iscomplex', 'iscomplexobj', 'isfinite', 'isfortran', 'isin', 'isinf', 'isnan', 'isnat', 'isneginf', 'isposinf', 'isreal', 'isrealobj', 'isscalar', 'issctype', 'issubclass_', 'issubdtype', 'issubsctype', 'iterable', 'ix_', 'kaiser', 'kron', 'lcm', 'ldexp', 'left_shift', 'less', 'less_equal', 'lexsort', 'lib', 'linalg', 'linspace', 'little_endian', 'load', 'loadtxt', 'log', 'log10', 'log1p', 'log2', 'logaddexp', 'logaddexp2', 'logical_and', 'logical_not', 'logical_or', 'logical_xor', 'logspace', 'longcomplex', 'longdouble', 'longfloat', 'longlong', 'lookfor', 'ma', 'mask_indices', 'mat', 'matmul', 'matrix', 'max', 'maximum', 'maximum_sctype', 'may_share_memory', 'mean', 'median', 'memmap', 'meshgrid', 'mgrid', 'min', 'min_scalar_type', 'minimum', 'mintypecode', 'mod', 'modf', 'moveaxis', 'msort', 'multiply', 'nan', 'nan_to_num', 'nanargmax', 'nanargmin', 'nancumprod', 'nancumsum', 'nanmax', 'nanmean', 'nanmedian', 'nanmin', 'nanpercentile', 'nanprod', 'nanquantile', 'nanstd', 'nansum', 'nanvar', 'nbytes', 'ndarray', 'ndenumerate', 'ndim', 'ndindex', 'nditer', 'negative', 'nested_iters', 'newaxis', 'nextafter', 'nonzero', 'not_equal', 'numarray', 'number', 'obj2sctype', 'object_', 'ogrid', 'oldnumeric', 'ones', 'ones_like', 'outer', 'packbits', 'pad', 'partition', 'percentile', 'pi', 'piecewise', 'place', 'poly', 'poly1d', 'polyadd', 'polyder', 'polydiv', 'polyfit', 'polyint', 'polymul', 'polynomial', 'polysub', 'polyval', 'positive', 'power', 'printoptions', 'prod', 'product', 'promote_types', 'ptp', 'put', 'put_along_axis', 'putmask', 'quantile', 'r_', 'rad2deg', 'radians', 'random', 'ravel', 'ravel_multi_index', 'real', 'real_if_close', 'rec', 'recarray', 'recfromcsv', 'recfromtxt', 'reciprocal', 'record', 'remainder', 'repeat', 'require', 'reshape', 'resize', 'result_type', 'right_shift', 'rint', 'roll', 'rollaxis', 'roots', 'rot90', 'round', 'round_', 'row_stack', 's_', 'safe_eval', 'save', 'savetxt', 'savez', 'savez_compressed', 'sctype2char', 'sctypeDict', 'sctypes', 'searchsorted', 'select', 'set_numeric_ops', 'set_printoptions', 'set_string_function', 'setbufsize', 'setdiff1d', 'seterr', 'seterrcall', 'seterrobj', 'setxor1d', 'shape', 'shares_memory', 'short', 'show_config', 'show_runtime', 'sign', 'signbit', 'signedinteger', 'sin', 'sinc', 'single', 'singlecomplex', 'sinh', 'size', 'sometrue', 'sort', 'sort_complex', 'source', 'spacing', 'split', 'sqrt', 'square', 'squeeze', 'stack', 'std', 'str_', 'string_', 'subtract', 'sum', 'swapaxes', 'take', 'take_along_axis', 'tan', 'tanh', 'tensordot', 'test', 'testing', 'tile', 'timedelta64', 'trace', 'tracemalloc_domain', 'transpose', 'trapz', 'tri', 'tril', 'tril_indices', 'tril_indices_from', 'trim_zeros', 'triu', 'triu_indices', 'triu_indices_from', 'true_divide', 'trunc', 'typecodes', 'typename', 'ubyte', 'ufunc', 'uint', 'uint16', 'uint32', 'uint64', 'uint8', 'uintc', 'uintp', 'ulonglong', 'unicode_', 'union1d', 'unique', 'unpackbits', 'unravel_index', 'unsignedinteger', 'unwrap', 'ushort', 'vander', 'var', 'vdot', 'vectorize', 'version', 'void', 'vsplit', 'vstack', 'where', 'who', 'zeros', 'zeros_like']\n"
     ]
    }
   ],
   "source": [
    "print(dir(np))"
   ]
  },
  {
   "cell_type": "markdown",
   "id": "70d7adb3",
   "metadata": {},
   "source": [
    "Calculate the mean, median, mode and standard deviation for the problem \n",
    "statements 1 & 2."
   ]
  },
  {
   "cell_type": "markdown",
   "id": "6f1027e9",
   "metadata": {},
   "source": [
    "Problem Statement 1: \n",
    "The marks awarded for an assignment set for a Year 8 class of 20 students were as \n",
    "follows:\n",
    "6 7 5 7 7 8 7 6 9 7 4 10 6 8 8 9 5 6 4 8"
   ]
  },
  {
   "cell_type": "code",
   "execution_count": 5,
   "id": "c5d633d7",
   "metadata": {},
   "outputs": [],
   "source": [
    "class_of_students = np.array([6, 7, 5, 7, 7, 8, 7, 6, 9, 7, 4, 10, 6, 8, 8, 9, 5, 6, 4, 8])"
   ]
  },
  {
   "cell_type": "code",
   "execution_count": 6,
   "id": "49c29a6b",
   "metadata": {},
   "outputs": [],
   "source": [
    "mean_students = np.mean(class_of_students)\n",
    "median_students = np.median(class_of_students)\n",
    "mode_students = stats.mode(class_of_students).mode\n",
    "sd_students = np.std(class_of_students)"
   ]
  },
  {
   "cell_type": "code",
   "execution_count": 7,
   "id": "1325796e",
   "metadata": {},
   "outputs": [
    {
     "name": "stdout",
     "output_type": "stream",
     "text": [
      "mean: 6.85, median: 7.0, mode: 7, standard deviation: 1.5898113095584647\n"
     ]
    }
   ],
   "source": [
    "print(f'mean: {mean_students}, median: {median_students}, mode: {mode_students}, standard deviation: {sd_students}')"
   ]
  },
  {
   "cell_type": "markdown",
   "id": "1beda90d",
   "metadata": {},
   "source": [
    "Problem Statement 2: \n",
    "The number of calls from motorists per day for roadside service was recorded for a \n",
    "particular month:\n",
    "28, 122, 217, 130, 120, 86, 80, 90, 140, 120, 70, 40, 145, 113, 90, 68, 174, 194, 170, \n",
    "100, 75, 104, 97, 75,\n",
    "123, 100, 75, 104, 97, 75, 123, 100, 89, 120, 109"
   ]
  },
  {
   "cell_type": "code",
   "execution_count": 8,
   "id": "62070d3a",
   "metadata": {},
   "outputs": [],
   "source": [
    "num_motorist_calls = np.array([28, 122, 217, 130, 120, 86, 80, 90, 140, 120, 70, 40, 145, 113, 90, 68, 174, 194, 170, 100, 75, 104, 97, 75, 123, 100, 75, 104, 97, 75, 123, 100, 89, 120, 109])"
   ]
  },
  {
   "cell_type": "code",
   "execution_count": 9,
   "id": "904428d5",
   "metadata": {},
   "outputs": [],
   "source": [
    "mean_motorist_calls = np.mean(num_motorist_calls)\n",
    "median_motorist_calls = np.median(num_motorist_calls)\n",
    "mode_motorist_calls = stats.mode(num_motorist_calls).mode\n",
    "sd_motorist_calls = np.std(num_motorist_calls)"
   ]
  },
  {
   "cell_type": "code",
   "execution_count": 10,
   "id": "82d3a965",
   "metadata": {},
   "outputs": [
    {
     "name": "stdout",
     "output_type": "stream",
     "text": [
      "mean: 107.51428571428572, median: 100.0, mode: 75, standard deviation: 38.77287080168403\n"
     ]
    }
   ],
   "source": [
    "print(f'mean: {mean_motorist_calls}, median: {median_motorist_calls}, mode: {mode_motorist_calls}, standard deviation: {sd_motorist_calls}')"
   ]
  },
  {
   "cell_type": "markdown",
   "id": "94d0bf2d",
   "metadata": {},
   "source": [
    "Problem Statement 3: \n",
    "The number of times I go to the gym in weekdays, are given below along with its \n",
    "associated probability:\n",
    "x = 0, 1, 2, 3, 4, 5\n",
    "f(x) = 0.09, 0.15, 0.40, 0.25, 0.10, 0.01\n",
    "Calculate the mean no. of workouts in a week. Also evaluate the variance involved in \n",
    "it."
   ]
  },
  {
   "cell_type": "code",
   "execution_count": 11,
   "id": "124a340a",
   "metadata": {},
   "outputs": [],
   "source": [
    "num_workouts = np.array([0, 1, 2, 3, 4, 5])\n",
    "workout_probs = np.array([0.09, 0.15, 0.40, 0.25, 0.10, 0.01])"
   ]
  },
  {
   "cell_type": "code",
   "execution_count": 12,
   "id": "c0f069d5",
   "metadata": {},
   "outputs": [],
   "source": [
    "mean_workouts = sum(num_workouts * workout_probs)"
   ]
  },
  {
   "cell_type": "code",
   "execution_count": 13,
   "id": "f9f1faee",
   "metadata": {},
   "outputs": [
    {
     "data": {
      "text/plain": [
       "2.15"
      ]
     },
     "execution_count": 13,
     "metadata": {},
     "output_type": "execute_result"
    }
   ],
   "source": [
    "mean_workouts"
   ]
  },
  {
   "cell_type": "code",
   "execution_count": 14,
   "id": "3e935901",
   "metadata": {},
   "outputs": [],
   "source": [
    "#https://www.statology.org/variance-of-probability-distribution/\n",
    "variances = np.array([((num_workouts[i] - mean_workouts)**2)*workout_probs[i] for i in range(len(num_workouts))])\n",
    "variance_workouts = sum(variances)"
   ]
  },
  {
   "cell_type": "code",
   "execution_count": 15,
   "id": "88b99047",
   "metadata": {},
   "outputs": [
    {
     "data": {
      "text/plain": [
       "1.2275"
      ]
     },
     "execution_count": 15,
     "metadata": {},
     "output_type": "execute_result"
    }
   ],
   "source": [
    "variance_workouts"
   ]
  },
  {
   "cell_type": "code",
   "execution_count": 16,
   "id": "129b75d5",
   "metadata": {},
   "outputs": [
    {
     "name": "stdout",
     "output_type": "stream",
     "text": [
      "mean: 2.15, variance: 1.2275\n"
     ]
    }
   ],
   "source": [
    "print(f'mean: {mean_workouts}, variance: {variance_workouts}')"
   ]
  },
  {
   "cell_type": "markdown",
   "id": "fae5ddbd",
   "metadata": {},
   "source": [
    "Problem Statement 4:\n",
    "Let the continuous random variable D denote the diameter of the hole drilled in an \n",
    "aluminum sheet. The target diameter to be achieved is 12.5mm. Random \n",
    "disturbances in the process often result in inaccuracy.\n",
    "Historical data shows that the distribution of D can be modelled by the PDF (𝑑) = \n",
    "20𝑒−20(𝑑−12.5), 𝑑 ≥ 12.5. If a part with diameter > 12.6 mm needs to be scrapped, \n",
    "what is the proportion of those parts? What is the CDF when the diameter is of 11 \n",
    "mm? What is your conclusion regarding the proportion of scraps?"
   ]
  },
  {
   "cell_type": "code",
   "execution_count": 17,
   "id": "9e3fbad3",
   "metadata": {},
   "outputs": [],
   "source": [
    "#continuous\n",
    "d_lst1 = np.arange(12.5, 15, 0.1)"
   ]
  },
  {
   "cell_type": "code",
   "execution_count": 18,
   "id": "68b92ad4",
   "metadata": {},
   "outputs": [
    {
     "data": {
      "text/plain": [
       "array([12.5, 12.6, 12.7, 12.8, 12.9, 13. , 13.1, 13.2, 13.3, 13.4, 13.5,\n",
       "       13.6, 13.7, 13.8, 13.9, 14. , 14.1, 14.2, 14.3, 14.4, 14.5, 14.6,\n",
       "       14.7, 14.8, 14.9])"
      ]
     },
     "execution_count": 18,
     "metadata": {},
     "output_type": "execute_result"
    }
   ],
   "source": [
    "d_lst1"
   ]
  },
  {
   "cell_type": "code",
   "execution_count": 19,
   "id": "f5ac58cf",
   "metadata": {},
   "outputs": [
    {
     "data": {
      "text/plain": [
       "array([2.00000000e+01, 2.70670566e+00, 3.66312778e-01, 4.95750435e-02,\n",
       "       6.70925256e-03, 9.07998595e-04, 1.22884247e-04, 1.66305744e-05,\n",
       "       2.25070349e-06, 3.04599595e-07, 4.12230724e-08, 5.57893619e-09,\n",
       "       7.55026909e-10, 1.02181781e-10, 1.38288002e-11, 1.87152459e-12,\n",
       "       2.53283311e-13, 3.42781686e-14, 4.63904566e-15, 6.27826558e-16,\n",
       "       8.49670851e-17, 1.14990445e-17, 1.55622645e-18, 2.10612347e-19,\n",
       "       2.85032817e-20])"
      ]
     },
     "execution_count": 19,
     "metadata": {},
     "output_type": "execute_result"
    }
   ],
   "source": [
    "pdf1 = 20*math.e**(-20*(d_lst1-12.5))\n",
    "pdf1"
   ]
  },
  {
   "cell_type": "code",
   "execution_count": 20,
   "id": "486681f4",
   "metadata": {},
   "outputs": [
    {
     "data": {
      "image/png": "[encoded data removed]",
      "text/plain": [
       "<Figure size 432x288 with 1 Axes>"
      ]
     },
     "metadata": {
      "needs_background": "light"
     },
     "output_type": "display_data"
    }
   ],
   "source": [
    "plt.plot(d_lst1, pdf1)\n",
    "plt.title('PDF')\n",
    "plt.xlabel(\"Diameter of Hole Drilled (in mm)\")\n",
    "plt.ylabel(\"Frequency\")\n",
    "plt.show()"
   ]
  },
  {
   "cell_type": "code",
   "execution_count": 21,
   "id": "22ae4590",
   "metadata": {},
   "outputs": [
    {
     "data": {
      "text/plain": [
       "array([0.        , 0.86466472, 0.98168436, 0.99752125, 0.99966454,\n",
       "       0.9999546 , 0.99999386, 0.99999917, 0.99999989, 0.99999998,\n",
       "       1.        , 1.        , 1.        , 1.        , 1.        ,\n",
       "       1.        , 1.        , 1.        , 1.        , 1.        ,\n",
       "       1.        , 1.        , 1.        , 1.        , 1.        ])"
      ]
     },
     "execution_count": 21,
     "metadata": {},
     "output_type": "execute_result"
    }
   ],
   "source": [
    "cdf1 = 1 - math.e**(-20*(d_lst1-12.5))\n",
    "cdf1"
   ]
  },
  {
   "cell_type": "code",
   "execution_count": 22,
   "id": "ef93793b",
   "metadata": {
    "scrolled": true
   },
   "outputs": [
    {
     "data": {
      "image/png": "[encoded data removed]",
      "text/plain": [
       "<Figure size 432x288 with 1 Axes>"
      ]
     },
     "metadata": {
      "needs_background": "light"
     },
     "output_type": "display_data"
    }
   ],
   "source": [
    "plt.plot(d_lst1, cdf1)\n",
    "plt.title('CDF')\n",
    "plt.xlabel(\"Diameter of Hole Drilled (in mm)\")\n",
    "plt.ylabel(\"Cumulative Frequency\")\n",
    "plt.show()"
   ]
  },
  {
   "cell_type": "code",
   "execution_count": 23,
   "id": "83a56c07",
   "metadata": {},
   "outputs": [
    {
     "name": "stdout",
     "output_type": "stream",
     "text": [
      "~13.53% of parts need to be scrapped given > 12.6mm not allowed!\n"
     ]
    }
   ],
   "source": [
    "percentage_parts_scrapped = round((1 - cdf1[1]) * 100, 2)\n",
    "print(f'~{percentage_parts_scrapped}% of parts need to be scrapped given > 12.6mm not allowed!')"
   ]
  },
  {
   "cell_type": "code",
   "execution_count": 24,
   "id": "dbc6bb1a",
   "metadata": {},
   "outputs": [
    {
     "name": "stdout",
     "output_type": "stream",
     "text": [
      "Since 11mm is less than 12.5mm (constraint of pdf), the cdf of 11mm, or cdf(d=11), is 0.\n"
     ]
    }
   ],
   "source": [
    "print(\"Since 11mm is less than 12.5mm (constraint of pdf), the cdf of 11mm, or cdf(d=11), is 0.\")"
   ]
  },
  {
   "cell_type": "markdown",
   "id": "b3e5badd",
   "metadata": {},
   "source": [
    "### Conclusion: Process needs to be revised since nearly 14 out of 100 parts are scrapped due to being out of spec. This is costly and a waste of resources. These random disturbances causing inaccuracies need to be minimized to improve efficiency and reduce number of parts scrapped!"
   ]
  },
  {
   "cell_type": "markdown",
   "id": "033c5894",
   "metadata": {},
   "source": [
    "Problem Statement 5: \n",
    "A company manufactures LED bulbs with a faulty rate of 30%. If I randomly select 6 \n",
    "chosen LEDs, what is the probability of having 2 faulty LEDs in my sample? \n",
    "Calculate the average value of this process. Also evaluate the standard deviation \n",
    "associated with it."
   ]
  },
  {
   "cell_type": "code",
   "execution_count": 25,
   "id": "207604e2",
   "metadata": {},
   "outputs": [],
   "source": [
    "#binomial distribution (discrete)\n",
    "n = 6\n",
    "p = 0.3\n",
    "binomial = stats.binom(n=n, p=p)"
   ]
  },
  {
   "cell_type": "code",
   "execution_count": 26,
   "id": "e9978e8c",
   "metadata": {},
   "outputs": [
    {
     "data": {
      "text/plain": [
       "0.32413499999999995"
      ]
     },
     "execution_count": 26,
     "metadata": {},
     "output_type": "execute_result"
    }
   ],
   "source": [
    "binomial.pmf(2)"
   ]
  },
  {
   "cell_type": "code",
   "execution_count": 27,
   "id": "07711362",
   "metadata": {},
   "outputs": [],
   "source": [
    "mean_binomial = binomial.mean()\n",
    "std_binomial = binomial.std()"
   ]
  },
  {
   "cell_type": "code",
   "execution_count": 28,
   "id": "68ef0a20",
   "metadata": {},
   "outputs": [
    {
     "name": "stdout",
     "output_type": "stream",
     "text": [
      "mean: 1.7999999999999998, standard deviation: 1.1224972160321822\n"
     ]
    }
   ],
   "source": [
    "print(f'mean: {mean_binomial}, standard deviation: {std_binomial}')"
   ]
  },
  {
   "cell_type": "markdown",
   "id": "3616d4bc",
   "metadata": {},
   "source": [
    "Problem Statement 6:\n",
    "Gaurav and Barakha are both preparing for entrance exams. Gaurav attempts to \n",
    "solve 8 questions per day with a correction rate of 75%, while Barakha averages \n",
    "around 12 questions per day with a correction rate of 45%. What is the probability \n",
    "that each of them will solve 5 questions correctly? What happens in cases of 4 and 6 \n",
    "correct solutions? What do you infer from it? What are the two main governing \n",
    "factors affecting their ability to solve questions correctly? Give a pictorial \n",
    "representation of the same to validate your answer."
   ]
  },
  {
   "cell_type": "code",
   "execution_count": 29,
   "id": "095972ed",
   "metadata": {},
   "outputs": [],
   "source": [
    "#binomial distribution (discrete)\n",
    "n_gaurav = 8\n",
    "p_gaurav = 0.75\n",
    "n_barakha = 12\n",
    "p_barakha = 0.45\n",
    "gaurav_binomial = stats.binom(n=n_gaurav, p=p_gaurav)\n",
    "barakha_binomial = stats.binom(n=n_barakha, p=p_barakha)"
   ]
  },
  {
   "cell_type": "code",
   "execution_count": 30,
   "id": "0c93b55d",
   "metadata": {},
   "outputs": [
    {
     "name": "stdout",
     "output_type": "stream",
     "text": [
      "Gaurav has a 8.65% chance of solving 4 questions correctly.\n",
      "Barakha has a 17.0% chance of solving 4 questions correctly.\n",
      "Gaurav has a 20.76% chance of solving 5 questions correctly.\n",
      "Barakha has a 22.25% chance of solving 5 questions correctly.\n",
      "Gaurav has a 31.15% chance of solving 6 questions correctly.\n",
      "Barakha has a 21.24% chance of solving 6 questions correctly.\n"
     ]
    }
   ],
   "source": [
    "for i in range(4, 7):\n",
    "    gaurav_prob = round(gaurav_binomial.pmf(i) * 100, 2)\n",
    "    barakha_prob = round(barakha_binomial.pmf(i) * 100, 2)\n",
    "    print(f'Gaurav has a {gaurav_prob}% chance of solving {i} questions correctly.')\n",
    "    print(f'Barakha has a {barakha_prob}% chance of solving {i} questions correctly.')"
   ]
  },
  {
   "cell_type": "code",
   "execution_count": 31,
   "id": "ef5af85e",
   "metadata": {},
   "outputs": [
    {
     "name": "stdout",
     "output_type": "stream",
     "text": [
      "Barakha has a higher probability than Gaurav of answering 5 questions or less correctly, whereas Gaurav has a higher probability than Barakha of answering 6 questions or more correctly (but only up to 8 inclusively).\n"
     ]
    }
   ],
   "source": [
    "print('Barakha has a higher probability than Gaurav of answering 5 questions or less correctly, whereas Gaurav has a higher probability than Barakha of answering 6 questions or more correctly (but only up to 8 inclusively).')"
   ]
  },
  {
   "cell_type": "code",
   "execution_count": 32,
   "id": "4542578b",
   "metadata": {},
   "outputs": [],
   "source": [
    "x = [0, 1, 2, 3, 4, 5, 6, 7, 8, 9, 10, 11, 12]\n",
    "y_g = []\n",
    "y_b = []\n",
    "for num_correct in x:\n",
    "    y_g.append(gaurav_binomial.pmf(num_correct))\n",
    "    y_b.append(barakha_binomial.pmf(num_correct))"
   ]
  },
  {
   "cell_type": "code",
   "execution_count": 33,
   "id": "db47af90",
   "metadata": {},
   "outputs": [
    {
     "data": {
      "image/png": "[encoded data removed]",
      "text/plain": [
       "<Figure size 432x288 with 1 Axes>"
      ]
     },
     "metadata": {
      "needs_background": "light"
     },
     "output_type": "display_data"
    }
   ],
   "source": [
    "plt.bar(x, y_g)\n",
    "plt.title(\"Gaurav\")\n",
    "plt.xlabel(\"Number of Questions Answered Correctly\")\n",
    "plt.ylabel(\"Frequency\")\n",
    "plt.show()"
   ]
  },
  {
   "cell_type": "code",
   "execution_count": 34,
   "id": "71b4e0ab",
   "metadata": {},
   "outputs": [
    {
     "data": {
      "image/png": "[encoded data removed]",
      "text/plain": [
       "<Figure size 432x288 with 1 Axes>"
      ]
     },
     "metadata": {
      "needs_background": "light"
     },
     "output_type": "display_data"
    }
   ],
   "source": [
    "plt.bar(x, y_b)\n",
    "plt.title(\"Barakha\")\n",
    "plt.xlabel(\"Number of Questions Answered Correctly\")\n",
    "plt.ylabel(\"Frequency\")\n",
    "plt.show()"
   ]
  },
  {
   "cell_type": "code",
   "execution_count": 35,
   "id": "2316c359",
   "metadata": {},
   "outputs": [
    {
     "name": "stdout",
     "output_type": "stream",
     "text": [
      "governing factors: 1) correction rate and 2) number of questions solved per day\n"
     ]
    }
   ],
   "source": [
    "print('governing factors: 1) correction rate and 2) number of questions solved per day')"
   ]
  },
  {
   "cell_type": "markdown",
   "id": "c441f22e",
   "metadata": {},
   "source": [
    "Problem Statement 7:\n",
    "Customers arrive at a rate of 72 per hour to my shop. What is the probability of 𝑘\n",
    "customers arriving in 4 minutes? a) 5 customers, b) not more than 3 customers, c) \n",
    "more than 3 customers. Give a pictorial representation of the same to validate your \n",
    "answer."
   ]
  },
  {
   "cell_type": "code",
   "execution_count": 36,
   "id": "08040134",
   "metadata": {},
   "outputs": [],
   "source": [
    "#Poisson distribution (continuous)\n",
    "mu_cust = (72/60)*4\n",
    "customers_poisson = stats.poisson(mu=mu_cust)"
   ]
  },
  {
   "cell_type": "code",
   "execution_count": 37,
   "id": "621ad02e",
   "metadata": {},
   "outputs": [
    {
     "name": "stdout",
     "output_type": "stream",
     "text": [
      "Probability that exactly 5 customers arrive in 4 min. is zero since Poisson distribution is continuous.\n"
     ]
    }
   ],
   "source": [
    "# exactly 5 customers?\n",
    "k1 = 5\n",
    "prob_k1 = customers_poisson.pmf(k1)\n",
    "#prob_k1\n",
    "#however, probability that an exact number of customers occurs is always zero for a continuous probability distribution!\n",
    "print('Probability that exactly 5 customers arrive in 4 min. is zero since Poisson distribution is continuous.')"
   ]
  },
  {
   "cell_type": "code",
   "execution_count": 38,
   "id": "42abbe18",
   "metadata": {},
   "outputs": [],
   "source": [
    "lst_k = list(range(15))\n",
    "lst_prob = [customers_poisson.pmf(lst_k[i]) for i in range(len(lst_k))]"
   ]
  },
  {
   "cell_type": "code",
   "execution_count": 39,
   "id": "c532b94f",
   "metadata": {},
   "outputs": [
    {
     "data": {
      "image/png": "[encoded data removed]",
      "text/plain": [
       "<Figure size 432x288 with 1 Axes>"
      ]
     },
     "metadata": {
      "needs_background": "light"
     },
     "output_type": "display_data"
    }
   ],
   "source": [
    "plt.plot(lst_k, lst_prob)\n",
    "plt.title(\"Customers - Poisson Distribution\")\n",
    "plt.xlabel('Number of Customers Per 4 Minutes') \n",
    "plt.ylabel('Frequency')\n",
    "plt.show()"
   ]
  },
  {
   "cell_type": "code",
   "execution_count": 40,
   "id": "1a8374fb",
   "metadata": {},
   "outputs": [
    {
     "data": {
      "text/plain": [
       "29.42"
      ]
     },
     "execution_count": 40,
     "metadata": {},
     "output_type": "execute_result"
    }
   ],
   "source": [
    "k2 = 3\n",
    "prob_k2 = round(customers_poisson.cdf(k2)*100, 2)\n",
    "prob_k2 #percentage"
   ]
  },
  {
   "cell_type": "code",
   "execution_count": 41,
   "id": "5b54d88a",
   "metadata": {},
   "outputs": [
    {
     "data": {
      "text/plain": [
       "70.58"
      ]
     },
     "execution_count": 41,
     "metadata": {},
     "output_type": "execute_result"
    }
   ],
   "source": [
    "prob_k3 = 100 - prob_k2\n",
    "prob_k3 #percentage"
   ]
  },
  {
   "cell_type": "code",
   "execution_count": 42,
   "id": "5d807744",
   "metadata": {},
   "outputs": [
    {
     "name": "stdout",
     "output_type": "stream",
     "text": [
      "There is a 0% chance that exactly 5 customers arrive in 4 minutes, 29.42% chance less than or equal to 3 customers arrive in 4 minutes, and 70.58% chance more than 3 customers arrive in 4 minutes.\n"
     ]
    }
   ],
   "source": [
    "print(f'There is a 0% chance that exactly 5 customers arrive in 4 minutes, {prob_k2}% chance less than or equal to 3 customers arrive in 4 minutes, and {prob_k3}% chance more than 3 customers arrive in 4 minutes.')"
   ]
  },
  {
   "cell_type": "code",
   "execution_count": 43,
   "id": "d30effeb",
   "metadata": {},
   "outputs": [],
   "source": [
    "lst_cumulative_prob = [customers_poisson.cdf(lst_k[i]) for i in range(len(lst_k))]"
   ]
  },
  {
   "cell_type": "code",
   "execution_count": 44,
   "id": "a4146e35",
   "metadata": {},
   "outputs": [
    {
     "data": {
      "image/png": "[encoded data removed]",
      "text/plain": [
       "<Figure size 432x288 with 1 Axes>"
      ]
     },
     "metadata": {
      "needs_background": "light"
     },
     "output_type": "display_data"
    }
   ],
   "source": [
    "plt.plot(lst_k, lst_cumulative_prob)\n",
    "plt.plot([3, 3], [0, 1])\n",
    "plt.title(\"Customers - Poisson Distribution (Cumulative Probabilities)\")\n",
    "plt.xlabel(\"Number of Customers Per 4 Minutes\")\n",
    "plt.ylabel(\"Cumulative Frequency\")\n",
    "plt.show()"
   ]
  },
  {
   "cell_type": "markdown",
   "id": "feea56d0",
   "metadata": {},
   "source": [
    "Problem Statement 8:\n",
    "I work as a data analyst in Aeon Learning Pvt. Ltd. After analyzing data, I make \n",
    "reports, where I have the efficiency of entering 77 words per minute with 6 errors per \n",
    "hour. What is the probability that I will commit 2 errors in a 455-word financial report?\n",
    "What happens when the no. of words increases/decreases (in case of 1000 words, \n",
    "255 words)? \n",
    "How is the 𝜆 affected?\n",
    "How does it influence the PMF? \n",
    "Give a pictorial representation of the same to validate your answer."
   ]
  },
  {
   "cell_type": "code",
   "execution_count": 45,
   "id": "ecdd54e9",
   "metadata": {},
   "outputs": [
    {
     "name": "stdout",
     "output_type": "stream",
     "text": [
      "Lambda increases as the number of words increases, and vice versa. The PMF becomes flatter with less of a peak as lambda increases, and vice versa.\n"
     ]
    }
   ],
   "source": [
    "print('Lambda increases as the number of words increases, and vice versa. The PMF becomes flatter with less of a peak as lambda increases, and vice versa.')"
   ]
  },
  {
   "cell_type": "code",
   "execution_count": 46,
   "id": "2b001d78",
   "metadata": {},
   "outputs": [
    {
     "data": {
      "image/png": "[encoded data removed]",
      "text/plain": [
       "<Figure size 1080x504 with 1 Axes>"
      ]
     },
     "metadata": {
      "needs_background": "light"
     },
     "output_type": "display_data"
    },
    {
     "data": {
      "image/png": "[encoded data removed]",
      "text/plain": [
       "<Figure size 1080x504 with 1 Axes>"
      ]
     },
     "metadata": {
      "needs_background": "light"
     },
     "output_type": "display_data"
    }
   ],
   "source": [
    "#Poisson distribution (continuous)\n",
    "mu_errors_per_min = 6/60\n",
    "lst_num_words = [255, 455, 1000]\n",
    "lst_num_errors = list(range(11))\n",
    "\n",
    "#pmf\n",
    "fig = plt.figure(figsize=(15, 7))\n",
    "#lmda1\n",
    "num_words = lst_num_words[0]\n",
    "lmda = (num_words/77)*mu_errors_per_min\n",
    "poisson_errors = stats.poisson(mu=lmda)\n",
    "lst_probs = [poisson_errors.pmf(lst_num_errors[i]) for i in range(len(lst_num_errors))]\n",
    "plt.plot(lst_num_errors, lst_probs, label=f\"lambda: {round(lmda, 3)}\")\n",
    "#lmda2\n",
    "num_words = lst_num_words[1]\n",
    "lmda = (num_words/77)*mu_errors_per_min\n",
    "poisson_errors = stats.poisson(mu=lmda)\n",
    "lst_probs = [poisson_errors.pmf(lst_num_errors[i]) for i in range(len(lst_num_errors))]\n",
    "plt.plot(lst_num_errors, lst_probs, label=f\"lambda: {round(lmda, 3)}\")\n",
    "#lmda3\n",
    "num_words = lst_num_words[2]\n",
    "lmda = (num_words/77)*mu_errors_per_min\n",
    "poisson_errors = stats.poisson(mu=lmda)\n",
    "lst_probs = [poisson_errors.pmf(lst_num_errors[i]) for i in range(len(lst_num_errors))]\n",
    "plt.plot(lst_num_errors, lst_probs, label=f\"lambda: {round(lmda, 3)}\")\n",
    "plt.legend()\n",
    "plt.title(\"PMF of Number of Errors for Different Lambdas\")\n",
    "plt.show()\n",
    "\n",
    "#cdf\n",
    "fig = plt.figure(figsize=(15, 7))\n",
    "#lmda1\n",
    "num_words = lst_num_words[0]\n",
    "lmda = (num_words/77)*mu_errors_per_min\n",
    "poisson_errors = stats.poisson(mu=lmda)\n",
    "lst_cumulative_probs = [poisson_errors.cdf(lst_num_errors[i]) for i in range(len(lst_num_errors))]\n",
    "plt.plot(lst_num_errors, lst_cumulative_probs, label=f\"lambda: {round(lmda, 3)}\")\n",
    "#lmda2\n",
    "num_words = lst_num_words[1]\n",
    "lmda = (num_words/77)*mu_errors_per_min\n",
    "poisson_errors = stats.poisson(mu=lmda)\n",
    "lst_cumulative_probs = [poisson_errors.cdf(lst_num_errors[i]) for i in range(len(lst_num_errors))]\n",
    "plt.plot(lst_num_errors, lst_cumulative_probs, label=f\"lambda: {round(lmda, 3)}\")\n",
    "#lmda3\n",
    "num_words = lst_num_words[2]\n",
    "lmda = (num_words/77)*mu_errors_per_min\n",
    "poisson_errors = stats.poisson(mu=lmda)\n",
    "lst_cumulative_probs = [poisson_errors.cdf(lst_num_errors[i]) for i in range(len(lst_num_errors))]\n",
    "plt.plot(lst_num_errors, lst_cumulative_probs, label=f\"lambda: {round(lmda, 3)}\")\n",
    "plt.title(\"CDF of Number of Errors for Different Lambdas\")\n",
    "plt.legend()\n",
    "plt.show()"
   ]
  },
  {
   "cell_type": "markdown",
   "id": "0310bdd7",
   "metadata": {},
   "source": [
    "Problem Statement 9:\n",
    "Let the continuous random variable D denote the diameter of the hole drilled in an \n",
    "aluminum sheet. The target diameter to be achieved is 12.5mm. Random \n",
    "disturbances in the process often result in inaccuracy.\n",
    "Historical data shows that the distribution of D can be modelled by the PDF, f(d) = \n",
    "20e−20(d−12.5), d ≥ 12.5. If a part with diameter > 12.6 mm needs to be scrapped, \n",
    "what is the proportion of those parts? What is the CDF when the diameter is of 11 \n",
    "mm?\n",
    "What is the conclusion of this experiment?"
   ]
  },
  {
   "cell_type": "code",
   "execution_count": 47,
   "id": "59b48986",
   "metadata": {},
   "outputs": [],
   "source": [
    "# Refer to Problem Statement 5 above."
   ]
  },
  {
   "cell_type": "markdown",
   "id": "de361b98",
   "metadata": {},
   "source": [
    "Problem Statement 10:\n",
    "Please compute the following:\n",
    "a) P(Z > 1.26), . P(Z < −0.86), P(Z > −1.37), P(−1.25 < Z < 0.37), . P(Z ≤ −4.6)\n",
    "b) Find the value 𝑧 such that 𝑃(𝑍 > 𝑧) = 0.05\n",
    "c) Find the value of 𝑧 such that 𝑃(−𝑧 < 𝑍 < 𝑧) = 0.99"
   ]
  },
  {
   "cell_type": "markdown",
   "id": "b33b058a",
   "metadata": {},
   "source": [
    "#### PART A"
   ]
  },
  {
   "cell_type": "code",
   "execution_count": 48,
   "id": "a9c9e36f",
   "metadata": {},
   "outputs": [
    {
     "data": {
      "text/plain": [
       "0.1038"
      ]
     },
     "execution_count": 48,
     "metadata": {},
     "output_type": "execute_result"
    }
   ],
   "source": [
    "prob1 = round(1 - stats.norm.cdf(1.26), 4)\n",
    "prob1"
   ]
  },
  {
   "cell_type": "code",
   "execution_count": 49,
   "id": "2ae4fb7d",
   "metadata": {},
   "outputs": [
    {
     "data": {
      "text/plain": [
       "0.1949"
      ]
     },
     "execution_count": 49,
     "metadata": {},
     "output_type": "execute_result"
    }
   ],
   "source": [
    "prob2 = round(stats.norm.cdf(-0.86), 4)\n",
    "prob2"
   ]
  },
  {
   "cell_type": "code",
   "execution_count": 50,
   "id": "cdabb281",
   "metadata": {},
   "outputs": [
    {
     "data": {
      "text/plain": [
       "0.9147"
      ]
     },
     "execution_count": 50,
     "metadata": {},
     "output_type": "execute_result"
    }
   ],
   "source": [
    "prob3 = round(1 - stats.norm.cdf(-1.37), 4)\n",
    "prob3"
   ]
  },
  {
   "cell_type": "code",
   "execution_count": 51,
   "id": "4006181c",
   "metadata": {},
   "outputs": [
    {
     "data": {
      "text/plain": [
       "0.5387"
      ]
     },
     "execution_count": 51,
     "metadata": {},
     "output_type": "execute_result"
    }
   ],
   "source": [
    "prob4 = round((1 - stats.norm.cdf(-1.25)) - (1 - stats.norm.cdf(0.37)), 4)\n",
    "prob4"
   ]
  },
  {
   "cell_type": "code",
   "execution_count": 52,
   "id": "a53b3744",
   "metadata": {},
   "outputs": [
    {
     "data": {
      "text/plain": [
       "2.1e-06"
      ]
     },
     "execution_count": 52,
     "metadata": {},
     "output_type": "execute_result"
    }
   ],
   "source": [
    "prob5 = round(stats.norm.cdf(-4.6), 7)\n",
    "prob5"
   ]
  },
  {
   "cell_type": "markdown",
   "id": "f4d71803",
   "metadata": {},
   "source": [
    "#### PART B"
   ]
  },
  {
   "cell_type": "code",
   "execution_count": 53,
   "id": "d246e196",
   "metadata": {},
   "outputs": [
    {
     "data": {
      "text/plain": [
       "1.64"
      ]
     },
     "execution_count": 53,
     "metadata": {},
     "output_type": "execute_result"
    }
   ],
   "source": [
    "z1 = 1 - 0.05\n",
    "Z1 = round(stats.norm.ppf(z1), 2)\n",
    "Z1"
   ]
  },
  {
   "cell_type": "code",
   "execution_count": 54,
   "id": "d5720973",
   "metadata": {},
   "outputs": [
    {
     "data": {
      "text/plain": [
       "2.58"
      ]
     },
     "execution_count": 54,
     "metadata": {},
     "output_type": "execute_result"
    }
   ],
   "source": [
    "z2 = 1 - 0.005\n",
    "Z2 = round(stats.norm.ppf(z2), 2)\n",
    "Z2"
   ]
  },
  {
   "cell_type": "markdown",
   "id": "6314bdf8",
   "metadata": {},
   "source": [
    "Problem Statement 11:\n",
    "The current flow in a copper wire follow a normal distribution with a mean of 10 𝑚A \n",
    "and a variance of 4 (𝑚𝐴)2. \n",
    "What is the probability that a current measurement will exceed 13 𝑚𝐴? What is the \n",
    "probability that a current measurement is between 9 and 11mA? Determine the \n",
    "current measurement which has a probability of 0.98."
   ]
  },
  {
   "cell_type": "code",
   "execution_count": 55,
   "id": "93ba9d4b",
   "metadata": {},
   "outputs": [
    {
     "data": {
      "text/plain": [
       "2.0"
      ]
     },
     "execution_count": 55,
     "metadata": {},
     "output_type": "execute_result"
    }
   ],
   "source": [
    "#square root of variance is std deviation\n",
    "mean_copper_wire = 10\n",
    "stdev_copper_wire = math.sqrt(4)\n",
    "stdev_copper_wire"
   ]
  },
  {
   "cell_type": "code",
   "execution_count": 56,
   "id": "b1e42c96",
   "metadata": {},
   "outputs": [
    {
     "data": {
      "text/plain": [
       "1.5"
      ]
     },
     "execution_count": 56,
     "metadata": {},
     "output_type": "execute_result"
    }
   ],
   "source": [
    "Z_copper_wire_13mA = (13-mean_copper_wire)/stdev_copper_wire\n",
    "Z_copper_wire_13mA"
   ]
  },
  {
   "cell_type": "code",
   "execution_count": 57,
   "id": "b980f94c",
   "metadata": {},
   "outputs": [
    {
     "data": {
      "text/plain": [
       "0.0668"
      ]
     },
     "execution_count": 57,
     "metadata": {},
     "output_type": "execute_result"
    }
   ],
   "source": [
    "prob_exceed_13mA = round(1 - stats.norm.cdf(1.5), 4)\n",
    "prob_exceed_13mA"
   ]
  },
  {
   "cell_type": "code",
   "execution_count": 58,
   "id": "da352c48",
   "metadata": {},
   "outputs": [
    {
     "data": {
      "text/plain": [
       "(-0.5, 0.5)"
      ]
     },
     "execution_count": 58,
     "metadata": {},
     "output_type": "execute_result"
    }
   ],
   "source": [
    "Z_copper_wire_9mA = (9-mean_copper_wire)/stdev_copper_wire\n",
    "Z_copper_wire_11mA = (11-mean_copper_wire)/stdev_copper_wire\n",
    "Z_copper_wire_9mA, Z_copper_wire_11mA"
   ]
  },
  {
   "cell_type": "code",
   "execution_count": 59,
   "id": "aed37227",
   "metadata": {},
   "outputs": [
    {
     "data": {
      "text/plain": [
       "0.3829"
      ]
     },
     "execution_count": 59,
     "metadata": {},
     "output_type": "execute_result"
    }
   ],
   "source": [
    "prob_between_9mA_and_11mA = round((1 - stats.norm.cdf(-0.5)) - (1 - stats.norm.cdf(0.5)), 4)\n",
    "prob_between_9mA_and_11mA"
   ]
  },
  {
   "cell_type": "code",
   "execution_count": 60,
   "id": "b4e1534f",
   "metadata": {},
   "outputs": [
    {
     "data": {
      "text/plain": [
       "14.1"
      ]
     },
     "execution_count": 60,
     "metadata": {},
     "output_type": "execute_result"
    }
   ],
   "source": [
    "z_copper_wire = 0.98\n",
    "Z_copper_wire = round(stats.norm.ppf(z_copper_wire), 2)\n",
    "copper_wire_mA = Z_copper_wire*stdev_copper_wire+mean_copper_wire\n",
    "copper_wire_mA"
   ]
  },
  {
   "cell_type": "markdown",
   "id": "284a2b4a",
   "metadata": {},
   "source": [
    "Problem Statement 12:\n",
    "The shaft in a piston has its diameter normally distributed with a mean of 0.2508 inch \n",
    "and a standard deviation of 0.0005 inch. The specifications of the shaft are 0.2500 ∓\n",
    "0.0015 inch. What proportion of shafts are in sync with the specifications? If the \n",
    "process is centered so that the mean is equal to the target value of 0.2500, what \n",
    "proportion of shafts conform to the new specifications? What is your conclusion from \n",
    "this experiment?"
   ]
  },
  {
   "cell_type": "code",
   "execution_count": 61,
   "id": "2546a99f",
   "metadata": {},
   "outputs": [
    {
     "data": {
      "text/plain": [
       "0.9192"
      ]
     },
     "execution_count": 61,
     "metadata": {},
     "output_type": "execute_result"
    }
   ],
   "source": [
    "mean_piston_shaft = .2508\n",
    "stdev_piston_shaft = 0.0005\n",
    "smallest_shaft = 0.2500 - 0.0015\n",
    "largest_shaft = 0.2500 + 0.0015\n",
    "Z_smallest_shaft = (smallest_shaft - mean_piston_shaft) / stdev_piston_shaft\n",
    "Z_largest_shaft = (largest_shaft - mean_piston_shaft) / stdev_piston_shaft\n",
    "proportion_shafts_within_spec = round((stats.norm.cdf(Z_largest_shaft) - stats.norm.cdf(Z_smallest_shaft)), 4)\n",
    "proportion_shafts_within_spec"
   ]
  },
  {
   "cell_type": "code",
   "execution_count": 62,
   "id": "c7997087",
   "metadata": {},
   "outputs": [
    {
     "data": {
      "text/plain": [
       "0.9973"
      ]
     },
     "execution_count": 62,
     "metadata": {},
     "output_type": "execute_result"
    }
   ],
   "source": [
    "mean_piston_shaft_new = 0.2500\n",
    "Z_smallest_shaft_new = (smallest_shaft - mean_piston_shaft_new) / stdev_piston_shaft\n",
    "Z_largest_shaft_new = (largest_shaft - mean_piston_shaft_new) / stdev_piston_shaft\n",
    "proportion_shafts_within_spec_new = round((stats.norm.cdf(Z_largest_shaft_new) - stats.norm.cdf(Z_smallest_shaft_new)), 4)\n",
    "proportion_shafts_within_spec_new"
   ]
  },
  {
   "cell_type": "code",
   "execution_count": 63,
   "id": "71d2fe58",
   "metadata": {},
   "outputs": [
    {
     "data": {
      "text/plain": [
       "0.07809999999999995"
      ]
     },
     "execution_count": 63,
     "metadata": {},
     "output_type": "execute_result"
    }
   ],
   "source": [
    "proportion_shafts_within_spec_new - proportion_shafts_within_spec"
   ]
  },
  {
   "cell_type": "markdown",
   "id": "2bfc6d7b",
   "metadata": {},
   "source": [
    "### Conclusion: Process needs to be centered at a mean of 0.2500 in. so as to increase the number of shafts in a piston within specs by ~7.81%, thus reducing unnecessary losses in production."
   ]
  },
  {
   "cell_type": "markdown",
   "id": "76ad8480",
   "metadata": {},
   "source": [
    "# Covariance and Correlation Questions"
   ]
  },
  {
   "cell_type": "markdown",
   "id": "a5858b2d",
   "metadata": {},
   "source": [
    "1.\tA company is analyzing the relationship between the price of its products and the number of units sold. The following table shows the data collected over a period of 6 months. Calculate the covariance and correlation between the two variables."
   ]
  },
  {
   "cell_type": "code",
   "execution_count": 64,
   "id": "73e2776d",
   "metadata": {},
   "outputs": [],
   "source": [
    "#https://www.wallstreetmojo.com/correlation-vs-covariance/\n",
    "#covariance = correlation * sd_a * sd_b"
   ]
  },
  {
   "cell_type": "code",
   "execution_count": 65,
   "id": "c3cc16a1",
   "metadata": {},
   "outputs": [
    {
     "data": {
      "text/plain": [
       "[10, 12, 14, 16, 18, 20]"
      ]
     },
     "execution_count": 65,
     "metadata": {},
     "output_type": "execute_result"
    }
   ],
   "source": [
    "price = list(range(10, 21, 2))\n",
    "price"
   ]
  },
  {
   "cell_type": "code",
   "execution_count": 66,
   "id": "523ff92f",
   "metadata": {},
   "outputs": [
    {
     "data": {
      "text/plain": [
       "[100, 90, 80, 70, 60, 50]"
      ]
     },
     "execution_count": 66,
     "metadata": {},
     "output_type": "execute_result"
    }
   ],
   "source": [
    "units_sold = list(range(100, 49, -10))\n",
    "units_sold"
   ]
  },
  {
   "cell_type": "code",
   "execution_count": 67,
   "id": "7f424727",
   "metadata": {},
   "outputs": [],
   "source": [
    "cov_price_units_sold = np.cov(price, units_sold)[0][1]\n",
    "corr_price_units_sold = np.corrcoef(price, units_sold)[0][1]"
   ]
  },
  {
   "cell_type": "code",
   "execution_count": 68,
   "id": "11dfb0f9",
   "metadata": {},
   "outputs": [
    {
     "name": "stdout",
     "output_type": "stream",
     "text": [
      "covariance: -70.0, correlation: -1.0\n"
     ]
    }
   ],
   "source": [
    "print(f'covariance: {cov_price_units_sold}, correlation: {corr_price_units_sold}')"
   ]
  },
  {
   "cell_type": "markdown",
   "id": "f691b388",
   "metadata": {},
   "source": [
    "2.\tA researcher is studying the relationship between the amount of time students spend studying and their scores on a test. The following data shows the amount of time spent studying (X) and the test scores (Y) for a group of students. Calculate the correlation coefficient and interpret the result."
   ]
  },
  {
   "cell_type": "code",
   "execution_count": 69,
   "id": "df2a6f29",
   "metadata": {},
   "outputs": [
    {
     "data": {
      "text/plain": [
       "[2, 3, 4, 5, 6]"
      ]
     },
     "execution_count": 69,
     "metadata": {},
     "output_type": "execute_result"
    }
   ],
   "source": [
    "time_spent_studying = list(range(2, 7))\n",
    "time_spent_studying"
   ]
  },
  {
   "cell_type": "code",
   "execution_count": 70,
   "id": "a38cf225",
   "metadata": {},
   "outputs": [],
   "source": [
    "test_scores = [70, 80, 90, 95, 100]"
   ]
  },
  {
   "cell_type": "code",
   "execution_count": 71,
   "id": "0874f642",
   "metadata": {},
   "outputs": [],
   "source": [
    "corr_studying_scores = np.corrcoef(time_spent_studying, test_scores)[0][1]"
   ]
  },
  {
   "cell_type": "code",
   "execution_count": 72,
   "id": "dcd53455",
   "metadata": {},
   "outputs": [
    {
     "name": "stdout",
     "output_type": "stream",
     "text": [
      "correlation: 0.9847982464479191\n"
     ]
    }
   ],
   "source": [
    "print(f'correlation: {corr_studying_scores}')"
   ]
  },
  {
   "cell_type": "markdown",
   "id": "5915df65",
   "metadata": {},
   "source": [
    "### Conclusion: There is a very strong positive correlation between time spent studying and test scores. The more studying, the higher the test scores, and vice versa."
   ]
  },
  {
   "cell_type": "markdown",
   "id": "2d7f15ab",
   "metadata": {},
   "source": [
    "3.\tA company is analyzing the relationship between the temperature and the number of ice creams sold. The following table shows the data collected over a period of 10 days. Calculate the covariance and correlation between the two variables."
   ]
  },
  {
   "cell_type": "code",
   "execution_count": 73,
   "id": "77959fe0",
   "metadata": {},
   "outputs": [
    {
     "data": {
      "text/plain": [
       "[20, 22, 24, 26, 28, 30, 32, 34, 36, 38]"
      ]
     },
     "execution_count": 73,
     "metadata": {},
     "output_type": "execute_result"
    }
   ],
   "source": [
    "temp = list(range(20, 39, 2))\n",
    "temp"
   ]
  },
  {
   "cell_type": "code",
   "execution_count": 74,
   "id": "e2e22e52",
   "metadata": {},
   "outputs": [
    {
     "data": {
      "text/plain": [
       "[50, 60, 70, 80, 90, 100, 110, 120, 130, 140]"
      ]
     },
     "execution_count": 74,
     "metadata": {},
     "output_type": "execute_result"
    }
   ],
   "source": [
    "ice_creams_sold = list(range(50, 141, 10))\n",
    "ice_creams_sold"
   ]
  },
  {
   "cell_type": "code",
   "execution_count": 75,
   "id": "6996fcfe",
   "metadata": {},
   "outputs": [],
   "source": [
    "cov_temp_sales = np.cov(temp, ice_creams_sold)[0][1]\n",
    "corr_temp_sales = np.corrcoef(temp, ice_creams_sold)[0][1]"
   ]
  },
  {
   "cell_type": "code",
   "execution_count": 76,
   "id": "d3a66cef",
   "metadata": {},
   "outputs": [
    {
     "name": "stdout",
     "output_type": "stream",
     "text": [
      "covariance: 183.33333333333331, correlation: 1.0\n"
     ]
    }
   ],
   "source": [
    "print(f'covariance: {cov_temp_sales}, correlation: {corr_temp_sales}')"
   ]
  },
  {
   "cell_type": "markdown",
   "id": "062273f5",
   "metadata": {},
   "source": [
    "4.\tA researcher wants to know if there is a relationship between the height and weight of a group of people. The following data shows the height (X) and weight (Y) of 10 individuals. Calculate the correlation coefficient and interpret the result."
   ]
  },
  {
   "cell_type": "code",
   "execution_count": 77,
   "id": "91add13b",
   "metadata": {},
   "outputs": [],
   "source": [
    "height_in = [65, 67, 70, 72, 62, 68, 74, 69, 71, 63]\n",
    "weight_lbs = [120, 135, 150, 160, 110, 140, 175, 150, 165, 105]"
   ]
  },
  {
   "cell_type": "code",
   "execution_count": 78,
   "id": "b1815bbf",
   "metadata": {},
   "outputs": [],
   "source": [
    "corr_height_weight = np.corrcoef(height_in, weight_lbs)[0][1]"
   ]
  },
  {
   "cell_type": "code",
   "execution_count": 79,
   "id": "1829ee13",
   "metadata": {},
   "outputs": [
    {
     "name": "stdout",
     "output_type": "stream",
     "text": [
      "correlation: 0.9848552582788593\n"
     ]
    }
   ],
   "source": [
    "print(f'correlation: {corr_height_weight}')"
   ]
  },
  {
   "cell_type": "markdown",
   "id": "e594c954",
   "metadata": {},
   "source": [
    "### Conclusion: There is a very strong positive correlation between height and weight. The taller a person, the more he/she weighs, and vice versa."
   ]
  },
  {
   "cell_type": "markdown",
   "id": "91da4d7b",
   "metadata": {},
   "source": [
    "5.\tA company is analyzing the relationship between the number of hours worked and the salary earned by its employees. The following table shows the data collected over a period of 12 months. Calculate the covariance and correlation between the two variables."
   ]
  },
  {
   "cell_type": "code",
   "execution_count": 80,
   "id": "bd663d37",
   "metadata": {},
   "outputs": [
    {
     "data": {
      "text/plain": [
       "[120, 130, 140, 150, 160, 170, 180, 190, 200, 210, 220]"
      ]
     },
     "execution_count": 80,
     "metadata": {},
     "output_type": "execute_result"
    }
   ],
   "source": [
    "hours_worked = list(range(120, 221, 10))\n",
    "hours_worked"
   ]
  },
  {
   "cell_type": "code",
   "execution_count": 81,
   "id": "31fe9004",
   "metadata": {},
   "outputs": [
    {
     "data": {
      "text/plain": [
       "[1500, 1600, 1700, 1800, 1900, 2000, 2100, 2200, 2300, 2400, 2500]"
      ]
     },
     "execution_count": 81,
     "metadata": {},
     "output_type": "execute_result"
    }
   ],
   "source": [
    "salary = list(range(1500, 2501, 100))\n",
    "salary"
   ]
  },
  {
   "cell_type": "code",
   "execution_count": 82,
   "id": "2fc71dc0",
   "metadata": {},
   "outputs": [],
   "source": [
    "cov_hours_salary = np.cov(hours_worked, salary)[0][1]\n",
    "corr_hours_salary = np.corrcoef(hours_worked, salary)[0][1]"
   ]
  },
  {
   "cell_type": "code",
   "execution_count": 83,
   "id": "a96be721",
   "metadata": {},
   "outputs": [
    {
     "name": "stdout",
     "output_type": "stream",
     "text": [
      "covariance: 11000.0, correlation: 0.9999999999999998\n"
     ]
    }
   ],
   "source": [
    "print(f'covariance: {cov_hours_salary}, correlation: {corr_hours_salary}')"
   ]
  },
  {
   "cell_type": "code",
   "execution_count": null,
   "id": "4cdd0ebf",
   "metadata": {},
   "outputs": [],
   "source": []
  }
 ],
 "metadata": {
  "kernelspec": {
   "display_name": "Python 3 (ipykernel)",
   "language": "python",
   "name": "python3"
  },
  "language_info": {
   "codemirror_mode": {
    "name": "ipython",
    "version": 3
   },
   "file_extension": ".py",
   "mimetype": "text/x-python",
   "name": "python",
   "nbconvert_exporter": "python",
   "pygments_lexer": "ipython3",
   "version": "3.9.7"
  }
 },
 "nbformat": 4,
 "nbformat_minor": 5
}
